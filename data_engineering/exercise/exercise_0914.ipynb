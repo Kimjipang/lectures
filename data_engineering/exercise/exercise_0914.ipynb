{
 "cells": [
  {
   "cell_type": "code",
   "execution_count": 1,
   "id": "1feca98a-348a-4504-a826-337064c45eaa",
   "metadata": {},
   "outputs": [
    {
     "name": "stdout",
     "output_type": "stream",
     "text": [
      "Hello World!\n"
     ]
    }
   ],
   "source": [
    "import numpy as np\n",
    "print(\"Hello World!\")\n"
   ]
  },
  {
   "cell_type": "code",
   "execution_count": 2,
   "id": "114a045c-a5fe-4d0c-b317-1c5b8fac0f9c",
   "metadata": {},
   "outputs": [
    {
     "name": "stdout",
     "output_type": "stream",
     "text": [
      "3.14\n",
      "hello world\n",
      "My name is Ji Hwan\n"
     ]
    }
   ],
   "source": [
    "pi = 3.14\n",
    "print(pi)\n",
    "print(\"hello world\")\n",
    "intro=\"My name is \"\n",
    "name = \"Ji Hwan\"\n",
    "print(intro + name)\n"
   ]
  },
  {
   "cell_type": "code",
   "execution_count": 3,
   "id": "a2af9e56-45c5-40d2-8552-790d9bd81df0",
   "metadata": {},
   "outputs": [],
   "source": [
    "\"\"\"\n",
    "Variables\n",
    "\"\"\"\n",
    "my_name = \"Ji Hwan\"\n",
    "my_hobby = \"swimming\"\n",
    "my_age = 25\n",
    "is_worker = False\n"
   ]
  },
  {
   "cell_type": "code",
   "execution_count": 4,
   "id": "18a02669-a30b-446a-85ca-16a7aa3bd845",
   "metadata": {},
   "outputs": [],
   "source": [
    "\"\"\"\n",
    "Data Type : Integers\n",
    "\"\"\"\n",
    "# 집에 있는 것 중 3가지 사물의 개수를 구하시오\n",
    "rooms = 3\n",
    "restroom = 2\n",
    "desttop = 2\n"
   ]
  },
  {
   "cell_type": "code",
   "execution_count": 5,
   "id": "0bc44f9a-d9e4-4557-9b85-75787db8857b",
   "metadata": {},
   "outputs": [],
   "source": [
    "\"\"\"\n",
    "Data Type : Real Numbers\n",
    "\"\"\"\n",
    "# 3가지 것을 변수로 정의하시오.\n",
    "\n",
    "PI = 3.14\n",
    "my_weight = 81.4\n",
    "dollar_rate = 1165.11"
   ]
  },
  {
   "cell_type": "code",
   "execution_count": 6,
   "id": "a2ddd4d8-a14f-4d8f-8321-7e8d3ba0940f",
   "metadata": {},
   "outputs": [
    {
     "name": "stdout",
     "output_type": "stream",
     "text": [
      "Swimming Football Marvel\n"
     ]
    }
   ],
   "source": [
    "\"\"\"\n",
    "Data Type : Strings\n",
    "\"\"\"\n",
    "# 본인이 좋아하는 3가지 문자열로 정의\n",
    "hobby = 'Swimming '\n",
    "favorite = 'Football '\n",
    "favorite_movie = 'Marvel'\n",
    "print(hobby + favorite + favorite_movie)"
   ]
  }
 ],
 "metadata": {
  "kernelspec": {
   "display_name": "Python 3",
   "language": "python",
   "name": "python3"
  },
  "language_info": {
   "codemirror_mode": {
    "name": "ipython",
    "version": 3
   },
   "file_extension": ".py",
   "mimetype": "text/x-python",
   "name": "python",
   "nbconvert_exporter": "python",
   "pygments_lexer": "ipython3",
   "version": "3.8.8"
  }
 },
 "nbformat": 4,
 "nbformat_minor": 5
}
