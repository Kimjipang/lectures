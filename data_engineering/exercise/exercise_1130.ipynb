{
 "cells": [
  {
   "cell_type": "code",
   "execution_count": 2,
   "id": "3a1e974a-f168-4566-9b00-d9d2229a0d87",
   "metadata": {},
   "outputs": [
    {
     "data": {
      "text/plain": [
       "(11746, 60)"
      ]
     },
     "execution_count": 2,
     "metadata": {},
     "output_type": "execute_result"
    }
   ],
   "source": [
    "import pandas as pd\n",
    "import numpy as np\n",
    "\n",
    "\"\"\"\n",
    "Data Loading\n",
    "\"\"\"\n",
    "\n",
    "# Read in data into a dataframe \n",
    "df = pd.read_csv('/Users/jihwankim/Downloads/ny_energy_2016.csv')\n",
    "\n",
    "df.head()\n",
    "df.shape"
   ]
  },
  {
   "cell_type": "code",
   "execution_count": 3,
   "id": "139a502e-99ac-4926-9480-9c5f59aeb03f",
   "metadata": {},
   "outputs": [
    {
     "name": "stdout",
     "output_type": "stream",
     "text": [
      "<class 'pandas.core.frame.DataFrame'>\n",
      "RangeIndex: 11746 entries, 0 to 11745\n",
      "Data columns (total 60 columns):\n",
      " #   Column                                                      Non-Null Count  Dtype  \n",
      "---  ------                                                      --------------  -----  \n",
      " 0   Order                                                       11746 non-null  int64  \n",
      " 1   Property Id                                                 11746 non-null  int64  \n",
      " 2   Property Name                                               11746 non-null  object \n",
      " 3   Parent Property Id                                          11746 non-null  object \n",
      " 4   Parent Property Name                                        11746 non-null  object \n",
      " 5   BBL - 10 digits                                             11735 non-null  object \n",
      " 6   NYC Borough, Block and Lot (BBL) self-reported              11746 non-null  object \n",
      " 7   NYC Building Identification Number (BIN)                    11746 non-null  object \n",
      " 8   Address 1 (self-reported)                                   11746 non-null  object \n",
      " 9   Address 2                                                   11746 non-null  object \n",
      " 10  Postal Code                                                 11746 non-null  object \n",
      " 11  Street Number                                               11622 non-null  object \n",
      " 12  Street Name                                                 11624 non-null  object \n",
      " 13  Borough                                                     11628 non-null  object \n",
      " 14  DOF Gross Floor Area                                        11628 non-null  float64\n",
      " 15  Primary Property Type - Self Selected                       11746 non-null  object \n",
      " 16  List of All Property Use Types at Property                  11746 non-null  object \n",
      " 17  Largest Property Use Type                                   11746 non-null  object \n",
      " 18  Largest Property Use Type - Gross Floor Area (ft²)          11746 non-null  object \n",
      " 19  2nd Largest Property Use Type                               11746 non-null  object \n",
      " 20  2nd Largest Property Use - Gross Floor Area (ft²)           11746 non-null  object \n",
      " 21  3rd Largest Property Use Type                               11746 non-null  object \n",
      " 22  3rd Largest Property Use Type - Gross Floor Area (ft²)      11746 non-null  object \n",
      " 23  Year Built                                                  11746 non-null  int64  \n",
      " 24  Number of Buildings - Self-reported                         11746 non-null  int64  \n",
      " 25  Occupancy                                                   11746 non-null  int64  \n",
      " 26  Metered Areas (Energy)                                      11746 non-null  object \n",
      " 27  Metered Areas  (Water)                                      11746 non-null  object \n",
      " 28  ENERGY STAR Score                                           11746 non-null  object \n",
      " 29  Site EUI (kBtu/ft²)                                         11746 non-null  object \n",
      " 30  Weather Normalized Site EUI (kBtu/ft²)                      11746 non-null  object \n",
      " 31  Weather Normalized Site Electricity Intensity (kWh/ft²)     11746 non-null  object \n",
      " 32  Weather Normalized Site Natural Gas Intensity (therms/ft²)  11746 non-null  object \n",
      " 33  Weather Normalized Source EUI (kBtu/ft²)                    11746 non-null  object \n",
      " 34  Fuel Oil #1 Use (kBtu)                                      11746 non-null  object \n",
      " 35  Fuel Oil #2 Use (kBtu)                                      11746 non-null  object \n",
      " 36  Fuel Oil #4 Use (kBtu)                                      11746 non-null  object \n",
      " 37  Fuel Oil #5 & 6 Use (kBtu)                                  11746 non-null  object \n",
      " 38  Diesel #2 Use (kBtu)                                        11746 non-null  object \n",
      " 39  District Steam Use (kBtu)                                   11746 non-null  object \n",
      " 40  Natural Gas Use (kBtu)                                      11746 non-null  object \n",
      " 41  Weather Normalized Site Natural Gas Use (therms)            11746 non-null  object \n",
      " 42  Electricity Use - Grid Purchase (kBtu)                      11746 non-null  object \n",
      " 43  Weather Normalized Site Electricity (kWh)                   11746 non-null  object \n",
      " 44  Total GHG Emissions (Metric Tons CO2e)                      11746 non-null  object \n",
      " 45  Direct GHG Emissions (Metric Tons CO2e)                     11746 non-null  object \n",
      " 46  Indirect GHG Emissions (Metric Tons CO2e)                   11746 non-null  object \n",
      " 47  Property GFA - Self-Reported (ft²)                          11746 non-null  int64  \n",
      " 48  Water Use (All Water Sources) (kgal)                        11746 non-null  object \n",
      " 49  Water Intensity (All Water Sources) (gal/ft²)               11746 non-null  object \n",
      " 50  Source EUI (kBtu/ft²)                                       11746 non-null  object \n",
      " 51  Release Date                                                11746 non-null  object \n",
      " 52  Water Required?                                             11628 non-null  object \n",
      " 53  DOF Benchmarking Submission Status                          11716 non-null  object \n",
      " 54  Latitude                                                    9483 non-null   float64\n",
      " 55  Longitude                                                   9483 non-null   float64\n",
      " 56  Community Board                                             9483 non-null   float64\n",
      " 57  Council District                                            9483 non-null   float64\n",
      " 58  Census Tract                                                9483 non-null   float64\n",
      " 59  NTA                                                         9483 non-null   object \n",
      "dtypes: float64(6), int64(6), object(48)\n",
      "memory usage: 5.4+ MB\n"
     ]
    }
   ],
   "source": [
    "# Print the information of the first instance\n",
    "df.info()"
   ]
  },
  {
   "cell_type": "code",
   "execution_count": 4,
   "id": "656fc7f7-90db-41b7-a500-c5843b80a3bd",
   "metadata": {},
   "outputs": [
    {
     "data": {
      "text/plain": [
       "Order                                                         False\n",
       "Property Id                                                   False\n",
       "Property Name                                                 False\n",
       "Parent Property Id                                            False\n",
       "Parent Property Name                                          False\n",
       "BBL - 10 digits                                               False\n",
       "NYC Borough, Block and Lot (BBL) self-reported                 True\n",
       "NYC Building Identification Number (BIN)                       True\n",
       "Address 1 (self-reported)                                     False\n",
       "Address 2                                                      True\n",
       "Postal Code                                                   False\n",
       "Street Number                                                 False\n",
       "Street Name                                                   False\n",
       "Borough                                                       False\n",
       "DOF Gross Floor Area                                          False\n",
       "Primary Property Type - Self Selected                         False\n",
       "List of All Property Use Types at Property                    False\n",
       "Largest Property Use Type                                      True\n",
       "Largest Property Use Type - Gross Floor Area (ft²)             True\n",
       "2nd Largest Property Use Type                                  True\n",
       "2nd Largest Property Use - Gross Floor Area (ft²)              True\n",
       "3rd Largest Property Use Type                                  True\n",
       "3rd Largest Property Use Type - Gross Floor Area (ft²)         True\n",
       "Year Built                                                    False\n",
       "Number of Buildings - Self-reported                           False\n",
       "Occupancy                                                     False\n",
       "Metered Areas (Energy)                                         True\n",
       "Metered Areas  (Water)                                         True\n",
       "ENERGY STAR Score                                              True\n",
       "Site EUI (kBtu/ft²)                                            True\n",
       "Weather Normalized Site EUI (kBtu/ft²)                         True\n",
       "Weather Normalized Site Electricity Intensity (kWh/ft²)        True\n",
       "Weather Normalized Site Natural Gas Intensity (therms/ft²)     True\n",
       "Weather Normalized Source EUI (kBtu/ft²)                       True\n",
       "Fuel Oil #1 Use (kBtu)                                         True\n",
       "Fuel Oil #2 Use (kBtu)                                         True\n",
       "Fuel Oil #4 Use (kBtu)                                         True\n",
       "Fuel Oil #5 & 6 Use (kBtu)                                     True\n",
       "Diesel #2 Use (kBtu)                                           True\n",
       "District Steam Use (kBtu)                                      True\n",
       "Natural Gas Use (kBtu)                                         True\n",
       "Weather Normalized Site Natural Gas Use (therms)               True\n",
       "Electricity Use - Grid Purchase (kBtu)                         True\n",
       "Weather Normalized Site Electricity (kWh)                      True\n",
       "Total GHG Emissions (Metric Tons CO2e)                         True\n",
       "Direct GHG Emissions (Metric Tons CO2e)                        True\n",
       "Indirect GHG Emissions (Metric Tons CO2e)                      True\n",
       "Property GFA - Self-Reported (ft²)                            False\n",
       "Water Use (All Water Sources) (kgal)                           True\n",
       "Water Intensity (All Water Sources) (gal/ft²)                  True\n",
       "Source EUI (kBtu/ft²)                                          True\n",
       "Release Date                                                  False\n",
       "Water Required?                                               False\n",
       "DOF Benchmarking Submission Status                            False\n",
       "Latitude                                                      False\n",
       "Longitude                                                     False\n",
       "Community Board                                               False\n",
       "Council District                                              False\n",
       "Census Tract                                                  False\n",
       "NTA                                                           False\n",
       "dtype: bool"
      ]
     },
     "execution_count": 4,
     "metadata": {},
     "output_type": "execute_result"
    }
   ],
   "source": [
    "\"\"\"\n",
    "Data Cleaning and Formatting\n",
    "\"\"\"\n",
    "\n",
    "# Problem: some missing values are encoded as “Not Available”.\n",
    "df[df == \"Not Available\"].any()"
   ]
  },
  {
   "cell_type": "code",
   "execution_count": 5,
   "id": "e235836f-8068-4594-b1e9-0b1b0e2af725",
   "metadata": {},
   "outputs": [
    {
     "data": {
      "text/plain": [
       "Order                                                         False\n",
       "Property Id                                                   False\n",
       "Property Name                                                 False\n",
       "Parent Property Id                                            False\n",
       "Parent Property Name                                          False\n",
       "BBL - 10 digits                                               False\n",
       "NYC Borough, Block and Lot (BBL) self-reported                False\n",
       "NYC Building Identification Number (BIN)                      False\n",
       "Address 1 (self-reported)                                     False\n",
       "Address 2                                                     False\n",
       "Postal Code                                                   False\n",
       "Street Number                                                 False\n",
       "Street Name                                                   False\n",
       "Borough                                                       False\n",
       "DOF Gross Floor Area                                          False\n",
       "Primary Property Type - Self Selected                         False\n",
       "List of All Property Use Types at Property                    False\n",
       "Largest Property Use Type                                     False\n",
       "Largest Property Use Type - Gross Floor Area (ft²)            False\n",
       "2nd Largest Property Use Type                                 False\n",
       "2nd Largest Property Use - Gross Floor Area (ft²)             False\n",
       "3rd Largest Property Use Type                                 False\n",
       "3rd Largest Property Use Type - Gross Floor Area (ft²)        False\n",
       "Year Built                                                    False\n",
       "Number of Buildings - Self-reported                           False\n",
       "Occupancy                                                     False\n",
       "Metered Areas (Energy)                                        False\n",
       "Metered Areas  (Water)                                        False\n",
       "ENERGY STAR Score                                             False\n",
       "Site EUI (kBtu/ft²)                                           False\n",
       "Weather Normalized Site EUI (kBtu/ft²)                        False\n",
       "Weather Normalized Site Electricity Intensity (kWh/ft²)       False\n",
       "Weather Normalized Site Natural Gas Intensity (therms/ft²)    False\n",
       "Weather Normalized Source EUI (kBtu/ft²)                      False\n",
       "Fuel Oil #1 Use (kBtu)                                        False\n",
       "Fuel Oil #2 Use (kBtu)                                        False\n",
       "Fuel Oil #4 Use (kBtu)                                        False\n",
       "Fuel Oil #5 & 6 Use (kBtu)                                    False\n",
       "Diesel #2 Use (kBtu)                                          False\n",
       "District Steam Use (kBtu)                                     False\n",
       "Natural Gas Use (kBtu)                                        False\n",
       "Weather Normalized Site Natural Gas Use (therms)              False\n",
       "Electricity Use - Grid Purchase (kBtu)                        False\n",
       "Weather Normalized Site Electricity (kWh)                     False\n",
       "Total GHG Emissions (Metric Tons CO2e)                        False\n",
       "Direct GHG Emissions (Metric Tons CO2e)                       False\n",
       "Indirect GHG Emissions (Metric Tons CO2e)                     False\n",
       "Property GFA - Self-Reported (ft²)                            False\n",
       "Water Use (All Water Sources) (kgal)                          False\n",
       "Water Intensity (All Water Sources) (gal/ft²)                 False\n",
       "Source EUI (kBtu/ft²)                                         False\n",
       "Release Date                                                  False\n",
       "Water Required?                                               False\n",
       "DOF Benchmarking Submission Status                            False\n",
       "Latitude                                                      False\n",
       "Longitude                                                     False\n",
       "Community Board                                               False\n",
       "Council District                                              False\n",
       "Census Tract                                                  False\n",
       "NTA                                                           False\n",
       "dtype: bool"
      ]
     },
     "execution_count": 5,
     "metadata": {},
     "output_type": "execute_result"
    }
   ],
   "source": [
    "# Replaces all the “Not Available” entries with np.nan\n",
    "\n",
    "df.replace({'Not Available': np.nan}, inplace=True) \n",
    "df[df == \"Not Available\"].any()"
   ]
  },
  {
   "cell_type": "code",
   "execution_count": 6,
   "id": "ab94604d-59e6-41b0-a8c1-4ac745ba9aeb",
   "metadata": {},
   "outputs": [
    {
     "name": "stdout",
     "output_type": "stream",
     "text": [
      "<class 'pandas.core.frame.DataFrame'>\n",
      "RangeIndex: 11746 entries, 0 to 11745\n",
      "Data columns (total 60 columns):\n",
      " #   Column                                                      Non-Null Count  Dtype  \n",
      "---  ------                                                      --------------  -----  \n",
      " 0   Order                                                       11746 non-null  int64  \n",
      " 1   Property Id                                                 11746 non-null  int64  \n",
      " 2   Property Name                                               11746 non-null  object \n",
      " 3   Parent Property Id                                          11746 non-null  object \n",
      " 4   Parent Property Name                                        11746 non-null  object \n",
      " 5   BBL - 10 digits                                             11735 non-null  object \n",
      " 6   NYC Borough, Block and Lot (BBL) self-reported              11735 non-null  object \n",
      " 7   NYC Building Identification Number (BIN)                    11584 non-null  object \n",
      " 8   Address 1 (self-reported)                                   11746 non-null  object \n",
      " 9   Address 2                                                   207 non-null    object \n",
      " 10  Postal Code                                                 11746 non-null  object \n",
      " 11  Street Number                                               11622 non-null  object \n",
      " 12  Street Name                                                 11624 non-null  object \n",
      " 13  Borough                                                     11628 non-null  object \n",
      " 14  DOF Gross Floor Area                                        11628 non-null  float64\n",
      " 15  Primary Property Type - Self Selected                       11746 non-null  object \n",
      " 16  List of All Property Use Types at Property                  11746 non-null  object \n",
      " 17  Largest Property Use Type                                   11744 non-null  object \n",
      " 18  Largest Property Use Type - Gross Floor Area (ft²)          11744 non-null  float64\n",
      " 19  2nd Largest Property Use Type                               3741 non-null   object \n",
      " 20  2nd Largest Property Use - Gross Floor Area (ft²)           3741 non-null   float64\n",
      " 21  3rd Largest Property Use Type                               1484 non-null   object \n",
      " 22  3rd Largest Property Use Type - Gross Floor Area (ft²)      1484 non-null   float64\n",
      " 23  Year Built                                                  11746 non-null  int64  \n",
      " 24  Number of Buildings - Self-reported                         11746 non-null  int64  \n",
      " 25  Occupancy                                                   11746 non-null  int64  \n",
      " 26  Metered Areas (Energy)                                      11689 non-null  object \n",
      " 27  Metered Areas  (Water)                                      7137 non-null   object \n",
      " 28  ENERGY STAR Score                                           9642 non-null   float64\n",
      " 29  Site EUI (kBtu/ft²)                                         11583 non-null  float64\n",
      " 30  Weather Normalized Site EUI (kBtu/ft²)                      10281 non-null  float64\n",
      " 31  Weather Normalized Site Electricity Intensity (kWh/ft²)     10959 non-null  float64\n",
      " 32  Weather Normalized Site Natural Gas Intensity (therms/ft²)  9783 non-null   float64\n",
      " 33  Weather Normalized Source EUI (kBtu/ft²)                    10281 non-null  float64\n",
      " 34  Fuel Oil #1 Use (kBtu)                                      9 non-null      float64\n",
      " 35  Fuel Oil #2 Use (kBtu)                                      2581 non-null   float64\n",
      " 36  Fuel Oil #4 Use (kBtu)                                      1321 non-null   float64\n",
      " 37  Fuel Oil #5 & 6 Use (kBtu)                                  594 non-null    float64\n",
      " 38  Diesel #2 Use (kBtu)                                        16 non-null     float64\n",
      " 39  District Steam Use (kBtu)                                   936 non-null    float64\n",
      " 40  Natural Gas Use (kBtu)                                      10304 non-null  float64\n",
      " 41  Weather Normalized Site Natural Gas Use (therms)            9784 non-null   float64\n",
      " 42  Electricity Use - Grid Purchase (kBtu)                      11502 non-null  float64\n",
      " 43  Weather Normalized Site Electricity (kWh)                   10960 non-null  float64\n",
      " 44  Total GHG Emissions (Metric Tons CO2e)                      11672 non-null  float64\n",
      " 45  Direct GHG Emissions (Metric Tons CO2e)                     11663 non-null  float64\n",
      " 46  Indirect GHG Emissions (Metric Tons CO2e)                   11681 non-null  float64\n",
      " 47  Property GFA - Self-Reported (ft²)                          11746 non-null  float64\n",
      " 48  Water Use (All Water Sources) (kgal)                        7762 non-null   float64\n",
      " 49  Water Intensity (All Water Sources) (gal/ft²)               7762 non-null   float64\n",
      " 50  Source EUI (kBtu/ft²)                                       11583 non-null  float64\n",
      " 51  Release Date                                                11746 non-null  object \n",
      " 52  Water Required?                                             11628 non-null  object \n",
      " 53  DOF Benchmarking Submission Status                          11716 non-null  object \n",
      " 54  Latitude                                                    9483 non-null   float64\n",
      " 55  Longitude                                                   9483 non-null   float64\n",
      " 56  Community Board                                             9483 non-null   float64\n",
      " 57  Council District                                            9483 non-null   float64\n",
      " 58  Census Tract                                                9483 non-null   float64\n",
      " 59  NTA                                                         9483 non-null   object \n",
      "dtypes: float64(32), int64(5), object(23)\n",
      "memory usage: 5.4+ MB\n"
     ]
    }
   ],
   "source": [
    "# Converts columns that should be numeric to float \n",
    "\n",
    "for col in list(df.columns):\n",
    "    # Select columns that should be numeric\n",
    "    if('ft²' in col or \n",
    "        'kBtu' in col or\n",
    "        'Metric Tons CO2e' in col or\n",
    "        'kWh' in col or\n",
    "        'therms' in col or\n",
    "        'gal' in col or\n",
    "        'Score' in col):\n",
    "            \n",
    "            # Convert the data type to float\n",
    "            df[col] = df[col].astype(float)\n",
    "\n",
    "\n",
    "df.info()"
   ]
  },
  {
   "cell_type": "code",
   "execution_count": 7,
   "id": "b95943be-c1fc-4ce8-b8f6-fce6715a9be8",
   "metadata": {},
   "outputs": [
    {
     "name": "stdout",
     "output_type": "stream",
     "text": [
      "Fuel Oil #1 Use (kBtu)                                        11737\n",
      "Diesel #2 Use (kBtu)                                          11730\n",
      "Address 2                                                     11539\n",
      "Fuel Oil #5 & 6 Use (kBtu)                                    11152\n",
      "District Steam Use (kBtu)                                     10810\n",
      "Fuel Oil #4 Use (kBtu)                                        10425\n",
      "3rd Largest Property Use Type - Gross Floor Area (ft²)        10262\n",
      "3rd Largest Property Use Type                                 10262\n",
      "Fuel Oil #2 Use (kBtu)                                         9165\n",
      "2nd Largest Property Use - Gross Floor Area (ft²)              8005\n",
      "2nd Largest Property Use Type                                  8005\n",
      "Metered Areas  (Water)                                         4609\n",
      "Water Intensity (All Water Sources) (gal/ft²)                  3984\n",
      "Water Use (All Water Sources) (kgal)                           3984\n",
      "NTA                                                            2263\n",
      "Latitude                                                       2263\n",
      "Longitude                                                      2263\n",
      "Community Board                                                2263\n",
      "Council District                                               2263\n",
      "Census Tract                                                   2263\n",
      "ENERGY STAR Score                                              2104\n",
      "Weather Normalized Site Natural Gas Intensity (therms/ft²)     1963\n",
      "Weather Normalized Site Natural Gas Use (therms)               1962\n",
      "Weather Normalized Source EUI (kBtu/ft²)                       1465\n",
      "Weather Normalized Site EUI (kBtu/ft²)                         1465\n",
      "Natural Gas Use (kBtu)                                         1442\n",
      "Weather Normalized Site Electricity Intensity (kWh/ft²)         787\n",
      "Weather Normalized Site Electricity (kWh)                       786\n",
      "Electricity Use - Grid Purchase (kBtu)                          244\n",
      "Site EUI (kBtu/ft²)                                             163\n",
      "Source EUI (kBtu/ft²)                                           163\n",
      "NYC Building Identification Number (BIN)                        162\n",
      "Street Number                                                   124\n",
      "Street Name                                                     122\n",
      "Borough                                                         118\n",
      "Water Required?                                                 118\n",
      "DOF Gross Floor Area                                            118\n",
      "Direct GHG Emissions (Metric Tons CO2e)                          83\n",
      "Total GHG Emissions (Metric Tons CO2e)                           74\n",
      "Indirect GHG Emissions (Metric Tons CO2e)                        65\n",
      "Metered Areas (Energy)                                           57\n",
      "DOF Benchmarking Submission Status                               30\n",
      "NYC Borough, Block and Lot (BBL) self-reported                   11\n",
      "BBL - 10 digits                                                  11\n",
      "Largest Property Use Type                                         2\n",
      "Largest Property Use Type - Gross Floor Area (ft²)                2\n",
      "Property Name                                                     0\n",
      "Parent Property Id                                                0\n",
      "Parent Property Name                                              0\n",
      "Release Date                                                      0\n",
      "Occupancy                                                         0\n",
      "Address 1 (self-reported)                                         0\n",
      "Property GFA - Self-Reported (ft²)                                0\n",
      "Postal Code                                                       0\n",
      "Primary Property Type - Self Selected                             0\n",
      "List of All Property Use Types at Property                        0\n",
      "Property Id                                                       0\n",
      "Year Built                                                        0\n",
      "Number of Buildings - Self-reported                               0\n",
      "Order                                                             0\n",
      "dtype: int64\n",
      "Fuel Oil #1 Use (kBtu)                                        0.999234\n",
      "Diesel #2 Use (kBtu)                                          0.998638\n",
      "Address 2                                                     0.982377\n",
      "Fuel Oil #5 & 6 Use (kBtu)                                    0.949430\n",
      "District Steam Use (kBtu)                                     0.920313\n",
      "Fuel Oil #4 Use (kBtu)                                        0.887536\n",
      "3rd Largest Property Use Type - Gross Floor Area (ft²)        0.873659\n",
      "3rd Largest Property Use Type                                 0.873659\n",
      "Fuel Oil #2 Use (kBtu)                                        0.780266\n",
      "2nd Largest Property Use - Gross Floor Area (ft²)             0.681509\n",
      "2nd Largest Property Use Type                                 0.681509\n",
      "Metered Areas  (Water)                                        0.392389\n",
      "Water Intensity (All Water Sources) (gal/ft²)                 0.339179\n",
      "Water Use (All Water Sources) (kgal)                          0.339179\n",
      "NTA                                                           0.192661\n",
      "Latitude                                                      0.192661\n",
      "Longitude                                                     0.192661\n",
      "Community Board                                               0.192661\n",
      "Council District                                              0.192661\n",
      "Census Tract                                                  0.192661\n",
      "ENERGY STAR Score                                             0.179125\n",
      "Weather Normalized Site Natural Gas Intensity (therms/ft²)    0.167121\n",
      "Weather Normalized Site Natural Gas Use (therms)              0.167036\n",
      "Weather Normalized Source EUI (kBtu/ft²)                      0.124723\n",
      "Weather Normalized Site EUI (kBtu/ft²)                        0.124723\n",
      "Natural Gas Use (kBtu)                                        0.122765\n",
      "Weather Normalized Site Electricity Intensity (kWh/ft²)       0.067002\n",
      "Weather Normalized Site Electricity (kWh)                     0.066916\n",
      "Electricity Use - Grid Purchase (kBtu)                        0.020773\n",
      "Site EUI (kBtu/ft²)                                           0.013877\n",
      "Source EUI (kBtu/ft²)                                         0.013877\n",
      "NYC Building Identification Number (BIN)                      0.013792\n",
      "Street Number                                                 0.010557\n",
      "Street Name                                                   0.010387\n",
      "Borough                                                       0.010046\n",
      "Water Required?                                               0.010046\n",
      "DOF Gross Floor Area                                          0.010046\n",
      "Direct GHG Emissions (Metric Tons CO2e)                       0.007066\n",
      "Total GHG Emissions (Metric Tons CO2e)                        0.006300\n",
      "Indirect GHG Emissions (Metric Tons CO2e)                     0.005534\n",
      "Metered Areas (Energy)                                        0.004853\n",
      "DOF Benchmarking Submission Status                            0.002554\n",
      "NYC Borough, Block and Lot (BBL) self-reported                0.000936\n",
      "BBL - 10 digits                                               0.000936\n",
      "Largest Property Use Type                                     0.000170\n",
      "Largest Property Use Type - Gross Floor Area (ft²)            0.000170\n",
      "Property Name                                                 0.000000\n",
      "Parent Property Id                                            0.000000\n",
      "Parent Property Name                                          0.000000\n",
      "Release Date                                                  0.000000\n",
      "Occupancy                                                     0.000000\n",
      "Address 1 (self-reported)                                     0.000000\n",
      "Property GFA - Self-Reported (ft²)                            0.000000\n",
      "Postal Code                                                   0.000000\n",
      "Primary Property Type - Self Selected                         0.000000\n",
      "List of All Property Use Types at Property                    0.000000\n",
      "Property Id                                                   0.000000\n",
      "Year Built                                                    0.000000\n",
      "Number of Buildings - Self-reported                           0.000000\n",
      "Order                                                         0.000000\n",
      "dtype: float64\n"
     ]
    }
   ],
   "source": [
    "\"\"\"\n",
    "Missing Values\n",
    "\"\"\"\n",
    "\n",
    "# Getting a sense of how many missing values are in each column\n",
    "ser_miss_cnt = df.isnull().sum().sort_values(ascending = False)\n",
    "ser_miss_rate = ser_miss_cnt / len(df)\n",
    "print(ser_miss_cnt)\n",
    "print(ser_miss_rate)"
   ]
  },
  {
   "cell_type": "code",
   "execution_count": 8,
   "id": "ebe1bccb-0f44-404b-9437-e1487ce4af3c",
   "metadata": {},
   "outputs": [
    {
     "name": "stdout",
     "output_type": "stream",
     "text": [
      "Fuel Oil #1 Use (kBtu)                                    0.999234\n",
      "Diesel #2 Use (kBtu)                                      0.998638\n",
      "Address 2                                                 0.982377\n",
      "Fuel Oil #5 & 6 Use (kBtu)                                0.949430\n",
      "District Steam Use (kBtu)                                 0.920313\n",
      "Fuel Oil #4 Use (kBtu)                                    0.887536\n",
      "3rd Largest Property Use Type - Gross Floor Area (ft²)    0.873659\n",
      "3rd Largest Property Use Type                             0.873659\n",
      "Fuel Oil #2 Use (kBtu)                                    0.780266\n",
      "2nd Largest Property Use - Gross Floor Area (ft²)         0.681509\n",
      "2nd Largest Property Use Type                             0.681509\n",
      "dtype: float64\n"
     ]
    }
   ],
   "source": [
    "# Remove any columns with more than threshold of missing rate\n",
    "threshold = 0.5\n",
    "\n",
    "print(ser_miss_rate[ser_miss_rate > 0.5])\n",
    "del_list = ser_miss_rate[ser_miss_rate > 0.5].index"
   ]
  },
  {
   "cell_type": "code",
   "execution_count": 9,
   "id": "5f515946-715a-4fe4-aa69-9ede0986af89",
   "metadata": {},
   "outputs": [
    {
     "data": {
      "text/html": [
       "<div>\n",
       "<style scoped>\n",
       "    .dataframe tbody tr th:only-of-type {\n",
       "        vertical-align: middle;\n",
       "    }\n",
       "\n",
       "    .dataframe tbody tr th {\n",
       "        vertical-align: top;\n",
       "    }\n",
       "\n",
       "    .dataframe thead th {\n",
       "        text-align: right;\n",
       "    }\n",
       "</style>\n",
       "<table border=\"1\" class=\"dataframe\">\n",
       "  <thead>\n",
       "    <tr style=\"text-align: right;\">\n",
       "      <th></th>\n",
       "      <th>Order</th>\n",
       "      <th>Property Id</th>\n",
       "      <th>Property Name</th>\n",
       "      <th>Parent Property Id</th>\n",
       "      <th>Parent Property Name</th>\n",
       "      <th>BBL - 10 digits</th>\n",
       "      <th>NYC Borough, Block and Lot (BBL) self-reported</th>\n",
       "      <th>NYC Building Identification Number (BIN)</th>\n",
       "      <th>Address 1 (self-reported)</th>\n",
       "      <th>Postal Code</th>\n",
       "      <th>...</th>\n",
       "      <th>Source EUI (kBtu/ft²)</th>\n",
       "      <th>Release Date</th>\n",
       "      <th>Water Required?</th>\n",
       "      <th>DOF Benchmarking Submission Status</th>\n",
       "      <th>Latitude</th>\n",
       "      <th>Longitude</th>\n",
       "      <th>Community Board</th>\n",
       "      <th>Council District</th>\n",
       "      <th>Census Tract</th>\n",
       "      <th>NTA</th>\n",
       "    </tr>\n",
       "  </thead>\n",
       "  <tbody>\n",
       "    <tr>\n",
       "      <th>0</th>\n",
       "      <td>1</td>\n",
       "      <td>13286</td>\n",
       "      <td>201/205</td>\n",
       "      <td>13286</td>\n",
       "      <td>201/205</td>\n",
       "      <td>1013160001</td>\n",
       "      <td>1013160001</td>\n",
       "      <td>1037549</td>\n",
       "      <td>201/205  East  42nd  st.</td>\n",
       "      <td>10017</td>\n",
       "      <td>...</td>\n",
       "      <td>619.4</td>\n",
       "      <td>05/01/2017 05:32:03 PM</td>\n",
       "      <td>No</td>\n",
       "      <td>In Compliance</td>\n",
       "      <td>40.750791</td>\n",
       "      <td>-73.973963</td>\n",
       "      <td>6.0</td>\n",
       "      <td>4.0</td>\n",
       "      <td>88.0</td>\n",
       "      <td>Turtle Bay-East Midtown                       ...</td>\n",
       "    </tr>\n",
       "    <tr>\n",
       "      <th>1</th>\n",
       "      <td>2</td>\n",
       "      <td>28400</td>\n",
       "      <td>NYP Columbia (West Campus)</td>\n",
       "      <td>28400</td>\n",
       "      <td>NYP Columbia (West Campus)</td>\n",
       "      <td>1021380040</td>\n",
       "      <td>1-02138-0040</td>\n",
       "      <td>1084198; 1084387;1084385; 1084386; 1084388; 10...</td>\n",
       "      <td>622 168th Street</td>\n",
       "      <td>10032</td>\n",
       "      <td>...</td>\n",
       "      <td>404.3</td>\n",
       "      <td>04/27/2017 11:23:27 AM</td>\n",
       "      <td>No</td>\n",
       "      <td>In Compliance</td>\n",
       "      <td>40.841402</td>\n",
       "      <td>-73.942568</td>\n",
       "      <td>12.0</td>\n",
       "      <td>10.0</td>\n",
       "      <td>251.0</td>\n",
       "      <td>Washington Heights South                      ...</td>\n",
       "    </tr>\n",
       "    <tr>\n",
       "      <th>2</th>\n",
       "      <td>3</td>\n",
       "      <td>4778226</td>\n",
       "      <td>MSCHoNY North</td>\n",
       "      <td>28400</td>\n",
       "      <td>NYP Columbia (West Campus)</td>\n",
       "      <td>1021380030</td>\n",
       "      <td>1-02138-0030</td>\n",
       "      <td>1063380</td>\n",
       "      <td>3975 Broadway</td>\n",
       "      <td>10032</td>\n",
       "      <td>...</td>\n",
       "      <td>NaN</td>\n",
       "      <td>04/27/2017 11:23:27 AM</td>\n",
       "      <td>No</td>\n",
       "      <td>In Compliance</td>\n",
       "      <td>40.840427</td>\n",
       "      <td>-73.940249</td>\n",
       "      <td>12.0</td>\n",
       "      <td>10.0</td>\n",
       "      <td>251.0</td>\n",
       "      <td>Washington Heights South                      ...</td>\n",
       "    </tr>\n",
       "    <tr>\n",
       "      <th>3</th>\n",
       "      <td>4</td>\n",
       "      <td>4778267</td>\n",
       "      <td>Herbert Irving Pavilion &amp; Millstein Hospital</td>\n",
       "      <td>28400</td>\n",
       "      <td>NYP Columbia (West Campus)</td>\n",
       "      <td>1021390001</td>\n",
       "      <td>1-02139-0001</td>\n",
       "      <td>1087281; 1076746</td>\n",
       "      <td>161 Fort Washington Ave</td>\n",
       "      <td>10032</td>\n",
       "      <td>...</td>\n",
       "      <td>NaN</td>\n",
       "      <td>04/27/2017 11:23:27 AM</td>\n",
       "      <td>No</td>\n",
       "      <td>In Compliance</td>\n",
       "      <td>40.840746</td>\n",
       "      <td>-73.942854</td>\n",
       "      <td>12.0</td>\n",
       "      <td>10.0</td>\n",
       "      <td>255.0</td>\n",
       "      <td>Washington Heights South                      ...</td>\n",
       "    </tr>\n",
       "    <tr>\n",
       "      <th>4</th>\n",
       "      <td>5</td>\n",
       "      <td>4778288</td>\n",
       "      <td>Neuro Institute</td>\n",
       "      <td>28400</td>\n",
       "      <td>NYP Columbia (West Campus)</td>\n",
       "      <td>1021390085</td>\n",
       "      <td>1-02139-0085</td>\n",
       "      <td>1063403</td>\n",
       "      <td>710 West 168th Street</td>\n",
       "      <td>10032</td>\n",
       "      <td>...</td>\n",
       "      <td>NaN</td>\n",
       "      <td>04/27/2017 11:23:27 AM</td>\n",
       "      <td>No</td>\n",
       "      <td>In Compliance</td>\n",
       "      <td>40.841559</td>\n",
       "      <td>-73.942528</td>\n",
       "      <td>12.0</td>\n",
       "      <td>10.0</td>\n",
       "      <td>255.0</td>\n",
       "      <td>Washington Heights South                      ...</td>\n",
       "    </tr>\n",
       "  </tbody>\n",
       "</table>\n",
       "<p>5 rows × 49 columns</p>\n",
       "</div>"
      ],
      "text/plain": [
       "   Order  Property Id                                 Property Name  \\\n",
       "0      1        13286                                       201/205   \n",
       "1      2        28400                    NYP Columbia (West Campus)   \n",
       "2      3      4778226                                 MSCHoNY North   \n",
       "3      4      4778267  Herbert Irving Pavilion & Millstein Hospital   \n",
       "4      5      4778288                               Neuro Institute   \n",
       "\n",
       "  Parent Property Id        Parent Property Name BBL - 10 digits  \\\n",
       "0              13286                     201/205      1013160001   \n",
       "1              28400  NYP Columbia (West Campus)      1021380040   \n",
       "2              28400  NYP Columbia (West Campus)      1021380030   \n",
       "3              28400  NYP Columbia (West Campus)      1021390001   \n",
       "4              28400  NYP Columbia (West Campus)      1021390085   \n",
       "\n",
       "  NYC Borough, Block and Lot (BBL) self-reported  \\\n",
       "0                                     1013160001   \n",
       "1                                   1-02138-0040   \n",
       "2                                   1-02138-0030   \n",
       "3                                   1-02139-0001   \n",
       "4                                   1-02139-0085   \n",
       "\n",
       "            NYC Building Identification Number (BIN)  \\\n",
       "0                                            1037549   \n",
       "1  1084198; 1084387;1084385; 1084386; 1084388; 10...   \n",
       "2                                            1063380   \n",
       "3                                   1087281; 1076746   \n",
       "4                                            1063403   \n",
       "\n",
       "  Address 1 (self-reported) Postal Code  ... Source EUI (kBtu/ft²)  \\\n",
       "0  201/205  East  42nd  st.       10017  ...                 619.4   \n",
       "1          622 168th Street       10032  ...                 404.3   \n",
       "2             3975 Broadway       10032  ...                   NaN   \n",
       "3   161 Fort Washington Ave       10032  ...                   NaN   \n",
       "4     710 West 168th Street       10032  ...                   NaN   \n",
       "\n",
       "             Release Date Water Required?  DOF Benchmarking Submission Status  \\\n",
       "0  05/01/2017 05:32:03 PM              No                       In Compliance   \n",
       "1  04/27/2017 11:23:27 AM              No                       In Compliance   \n",
       "2  04/27/2017 11:23:27 AM              No                       In Compliance   \n",
       "3  04/27/2017 11:23:27 AM              No                       In Compliance   \n",
       "4  04/27/2017 11:23:27 AM              No                       In Compliance   \n",
       "\n",
       "    Latitude  Longitude Community Board  Council District  Census Tract  \\\n",
       "0  40.750791 -73.973963             6.0               4.0          88.0   \n",
       "1  40.841402 -73.942568            12.0              10.0         251.0   \n",
       "2  40.840427 -73.940249            12.0              10.0         251.0   \n",
       "3  40.840746 -73.942854            12.0              10.0         255.0   \n",
       "4  40.841559 -73.942528            12.0              10.0         255.0   \n",
       "\n",
       "                                                 NTA  \n",
       "0  Turtle Bay-East Midtown                       ...  \n",
       "1  Washington Heights South                      ...  \n",
       "2  Washington Heights South                      ...  \n",
       "3  Washington Heights South                      ...  \n",
       "4  Washington Heights South                      ...  \n",
       "\n",
       "[5 rows x 49 columns]"
      ]
     },
     "execution_count": 9,
     "metadata": {},
     "output_type": "execute_result"
    }
   ],
   "source": [
    "# Drop the columns\n",
    "df.drop(columns=del_list, inplace=True)\n",
    "df.head()"
   ]
  },
  {
   "cell_type": "code",
   "execution_count": 10,
   "id": "21e018c0-c8a5-4bdf-8980-0f3ba9064c0f",
   "metadata": {},
   "outputs": [
    {
     "name": "stdout",
     "output_type": "stream",
     "text": [
      "Using matplotlib backend: MacOSX\n"
     ]
    }
   ],
   "source": [
    "\"\"\"\n",
    "Exploratory Data Analysis\n",
    "\"\"\"\n",
    "\n",
    "# Visualization setup\n",
    "%matplotlib\n",
    "%config InlineBackend.figure_format = 'svg'\n",
    "\n",
    "from matplotlib import pyplot as plt\n",
    "plt.rcParams['figure.figsize'] = [10, 5]\n",
    "plt.ion() # enable the interactive mode\n",
    "\n",
    "import seaborn as sns\n",
    "sns.set()  # set plot styles"
   ]
  },
  {
   "cell_type": "code",
   "execution_count": 11,
   "id": "0ce777f1-09cc-4bcc-9246-528055182d10",
   "metadata": {},
   "outputs": [
    {
     "data": {
      "text/plain": [
       "Text(0.5, 1.0, 'Energy Star Score Distribution')"
      ]
     },
     "execution_count": 11,
     "metadata": {},
     "output_type": "execute_result"
    }
   ],
   "source": [
    "# Rename the score\n",
    "df = df.rename(columns = {'ENERGY STAR Score': 'Score'})\n",
    "\n",
    "# Plot the histogram of the Energy Star Score\n",
    "plt.style.use('fivethirtyeight')\n",
    "plt.hist(df['Score'].dropna(), bins = 100, edgecolor = 'k')\n",
    "plt.xlabel('Score')\n",
    "plt.ylabel('Number of Buildings')\n",
    "plt.title('Energy Star Score Distribution')"
   ]
  },
  {
   "cell_type": "code",
   "execution_count": 12,
   "id": "7bdae7f8-7ff2-4a24-8653-f3a513597ce7",
   "metadata": {},
   "outputs": [
    {
     "data": {
      "text/plain": [
       "Text(0.5, 1.0, 'Site EUI Distribution')"
      ]
     },
     "execution_count": 12,
     "metadata": {},
     "output_type": "execute_result"
    }
   ],
   "source": [
    "# Plot the histogram of Site EUI\n",
    "plt.hist(df['Site EUI (kBtu/ft²)'].dropna(), bins = 20, edgecolor = 'black')\n",
    "plt.xlabel('Site EUI')\n",
    "plt.ylabel('Count')\n",
    "plt.title('Site EUI Distribution')"
   ]
  },
  {
   "cell_type": "code",
   "execution_count": 13,
   "id": "299cdfd1-283e-4c54-9440-51f442f241cd",
   "metadata": {},
   "outputs": [
    {
     "data": {
      "text/plain": [
       "count     11583.000000\n",
       "mean        280.071484\n",
       "std        8607.178877\n",
       "min           0.000000\n",
       "25%          61.800000\n",
       "50%          78.500000\n",
       "75%          97.600000\n",
       "max      869265.000000\n",
       "Name: Site EUI (kBtu/ft²), dtype: float64"
      ]
     },
     "execution_count": 13,
     "metadata": {},
     "output_type": "execute_result"
    }
   ],
   "source": [
    "# Descriptive statistics\n",
    "df['Site EUI (kBtu/ft²)'].describe()"
   ]
  },
  {
   "cell_type": "code",
   "execution_count": 14,
   "id": "47793ae1-35e8-438c-9499-c2acd2223b62",
   "metadata": {},
   "outputs": [
    {
     "data": {
      "text/plain": [
       "3173     51328.8\n",
       "3170     51831.2\n",
       "3383     78360.1\n",
       "8269     84969.6\n",
       "3263     95560.2\n",
       "8268    103562.7\n",
       "8174    112173.6\n",
       "3898    126307.4\n",
       "7       143974.4\n",
       "8068    869265.0\n",
       "Name: Site EUI (kBtu/ft²), dtype: float64"
      ]
     },
     "execution_count": 14,
     "metadata": {},
     "output_type": "execute_result"
    }
   ],
   "source": [
    "df['Site EUI (kBtu/ft²)'].dropna().sort_values().tail(10)"
   ]
  },
  {
   "cell_type": "code",
   "execution_count": 15,
   "id": "d83b9a61-5846-4011-8d29-9a08c37e07d6",
   "metadata": {},
   "outputs": [
    {
     "data": {
      "text/html": [
       "<div>\n",
       "<style scoped>\n",
       "    .dataframe tbody tr th:only-of-type {\n",
       "        vertical-align: middle;\n",
       "    }\n",
       "\n",
       "    .dataframe tbody tr th {\n",
       "        vertical-align: top;\n",
       "    }\n",
       "\n",
       "    .dataframe thead th {\n",
       "        text-align: right;\n",
       "    }\n",
       "</style>\n",
       "<table border=\"1\" class=\"dataframe\">\n",
       "  <thead>\n",
       "    <tr style=\"text-align: right;\">\n",
       "      <th></th>\n",
       "      <th>Order</th>\n",
       "      <th>Property Id</th>\n",
       "      <th>Property Name</th>\n",
       "      <th>Parent Property Id</th>\n",
       "      <th>Parent Property Name</th>\n",
       "      <th>BBL - 10 digits</th>\n",
       "      <th>NYC Borough, Block and Lot (BBL) self-reported</th>\n",
       "      <th>NYC Building Identification Number (BIN)</th>\n",
       "      <th>Address 1 (self-reported)</th>\n",
       "      <th>Postal Code</th>\n",
       "      <th>...</th>\n",
       "      <th>Source EUI (kBtu/ft²)</th>\n",
       "      <th>Release Date</th>\n",
       "      <th>Water Required?</th>\n",
       "      <th>DOF Benchmarking Submission Status</th>\n",
       "      <th>Latitude</th>\n",
       "      <th>Longitude</th>\n",
       "      <th>Community Board</th>\n",
       "      <th>Council District</th>\n",
       "      <th>Census Tract</th>\n",
       "      <th>NTA</th>\n",
       "    </tr>\n",
       "  </thead>\n",
       "  <tbody>\n",
       "    <tr>\n",
       "      <th>8068</th>\n",
       "      <td>9984</td>\n",
       "      <td>4414323</td>\n",
       "      <td>234 Skillman</td>\n",
       "      <td>Not Applicable: Standalone Property</td>\n",
       "      <td>Not Applicable: Standalone Property</td>\n",
       "      <td>3028937502</td>\n",
       "      <td>3028937502</td>\n",
       "      <td>3390250 , 3338313</td>\n",
       "      <td>234 Skillman avenue</td>\n",
       "      <td>11211</td>\n",
       "      <td>...</td>\n",
       "      <td>912801.1</td>\n",
       "      <td>05/01/2017 11:34:14 PM</td>\n",
       "      <td>NaN</td>\n",
       "      <td>In Compliance</td>\n",
       "      <td>40.716233</td>\n",
       "      <td>-73.94141</td>\n",
       "      <td>1.0</td>\n",
       "      <td>34.0</td>\n",
       "      <td>477.0</td>\n",
       "      <td>East Williamsburg                             ...</td>\n",
       "    </tr>\n",
       "  </tbody>\n",
       "</table>\n",
       "<p>1 rows × 49 columns</p>\n",
       "</div>"
      ],
      "text/plain": [
       "      Order  Property Id Property Name                   Parent Property Id  \\\n",
       "8068   9984      4414323  234 Skillman  Not Applicable: Standalone Property   \n",
       "\n",
       "                     Parent Property Name BBL - 10 digits  \\\n",
       "8068  Not Applicable: Standalone Property      3028937502   \n",
       "\n",
       "     NYC Borough, Block and Lot (BBL) self-reported  \\\n",
       "8068                                     3028937502   \n",
       "\n",
       "     NYC Building Identification Number (BIN) Address 1 (self-reported)  \\\n",
       "8068                        3390250 , 3338313       234 Skillman avenue   \n",
       "\n",
       "     Postal Code  ... Source EUI (kBtu/ft²)            Release Date  \\\n",
       "8068       11211  ...              912801.1  05/01/2017 11:34:14 PM   \n",
       "\n",
       "     Water Required?  DOF Benchmarking Submission Status   Latitude Longitude  \\\n",
       "8068             NaN                       In Compliance  40.716233 -73.94141   \n",
       "\n",
       "     Community Board  Council District  Census Tract  \\\n",
       "8068             1.0              34.0         477.0   \n",
       "\n",
       "                                                    NTA  \n",
       "8068  East Williamsburg                             ...  \n",
       "\n",
       "[1 rows x 49 columns]"
      ]
     },
     "execution_count": 15,
     "metadata": {},
     "output_type": "execute_result"
    }
   ],
   "source": [
    "df.loc[df['Site EUI (kBtu/ft²)'] == 869265, :]"
   ]
  },
  {
   "cell_type": "code",
   "execution_count": 16,
   "id": "74e6e58b-4192-4a0c-8087-27bf5ae5223a",
   "metadata": {},
   "outputs": [
    {
     "name": "stdout",
     "output_type": "stream",
     "text": [
      "Q1 = 61.8\n",
      "Q3 = 97.6\n"
     ]
    }
   ],
   "source": [
    "\"\"\"\n",
    "Removing Outliers\n",
    "- IQR-based outlier detection and elimination\n",
    "- Definition of an extreme outlier:\n",
    "    x < Q1 - 3IQR or x > Q3 - 3IQR\n",
    "\"\"\"\n",
    "\n",
    "# Calculate Q1 and Q3\n",
    "q1 = df['Site EUI (kBtu/ft²)'].quantile(0.25)\n",
    "q3 = df['Site EUI (kBtu/ft²)'].quantile(0.75)\n",
    "\n",
    "print('Q1 =', q1)\n",
    "print('Q3 =', q3)"
   ]
  },
  {
   "cell_type": "code",
   "execution_count": 17,
   "id": "d3bd549c-7951-4f39-ac31-778848502848",
   "metadata": {},
   "outputs": [
    {
     "name": "stdout",
     "output_type": "stream",
     "text": [
      "IQR = 35.8\n",
      "Upper fence = 205.0\n",
      "Lower fence = -45.599999999999994\n"
     ]
    }
   ],
   "source": [
    "# IQR\n",
    "iqr = q3-q1\n",
    "\n",
    "# Upper/lower fences\n",
    "# 1.5: mild outliers\n",
    "# 3: extreme outliers\n",
    "\n",
    "upper_fence = q3 + 3*iqr\n",
    "lower_fence = q1 - 3*iqr\n",
    "\n",
    "print('IQR =', iqr)\n",
    "print('Upper fence =', upper_fence)\n",
    "print('Lower fence =', lower_fence)"
   ]
  },
  {
   "cell_type": "code",
   "execution_count": 18,
   "id": "f4fa4e02-4fe0-4e65-88ab-bb2dc685c770",
   "metadata": {},
   "outputs": [
    {
     "data": {
      "text/plain": [
       "(11319,)"
      ]
     },
     "execution_count": 18,
     "metadata": {},
     "output_type": "execute_result"
    }
   ],
   "source": [
    "# Obtain a refined dataset (without extreme outliers)\n",
    "df = df[ (df['Site EUI (kBtu/ft²)'] < upper_fence) &\n",
    "      (df['Site EUI (kBtu/ft²)'] > lower_fence) ]\n",
    "\n",
    "df['Site EUI (kBtu/ft²)'].shape"
   ]
  },
  {
   "cell_type": "code",
   "execution_count": 19,
   "id": "917a3b62-52a5-4413-83ae-6742452a560c",
   "metadata": {},
   "outputs": [
    {
     "data": {
      "text/plain": [
       "Text(0.5, 1.0, 'Site EUI Distribution')"
      ]
     },
     "execution_count": 19,
     "metadata": {},
     "output_type": "execute_result"
    }
   ],
   "source": [
    "# Histogram of Site EUI after outlier eliminations\n",
    "\n",
    "plt.hist(df['Site EUI (kBtu/ft²)'].dropna(), bins = 20, edgecolor = 'black')\n",
    "plt.xlabel('Site EUI')\n",
    "plt.ylabel('Count')\n",
    "plt.title('Site EUI Distribution')"
   ]
  },
  {
   "cell_type": "code",
   "execution_count": 20,
   "id": "d13cdc12-cbeb-4101-9af3-98174e9b43c4",
   "metadata": {},
   "outputs": [
    {
     "data": {
      "text/plain": [
       "Multifamily Housing                      7464\n",
       "Office                                   1157\n",
       "Hotel                                     202\n",
       "Non-Refrigerated Warehouse                156\n",
       "K-12 School                                97\n",
       "Residence Hall/Dormitory                   96\n",
       "Senior Care Community                      85\n",
       "Distribution Center                        61\n",
       "Retail Store                               57\n",
       "Medical Office                             23\n",
       "Hospital (General Medical & Surgical)      15\n",
       "Financial Office                           12\n",
       "Supermarket/Grocery Store                  10\n",
       "Worship Facility                            9\n",
       "Refrigerated Warehouse                      8\n",
       "Parking                                     3\n",
       "Wholesale Club/Supercenter                  3\n",
       "Courthouse                                  2\n",
       "Bank Branch                                 1\n",
       "Name: Largest Property Use Type, dtype: int64"
      ]
     },
     "execution_count": 20,
     "metadata": {},
     "output_type": "execute_result"
    }
   ],
   "source": [
    "\"\"\"\n",
    "Looking for Relationships\n",
    "- Investigate categorical variables and the target variable (Energy Star Score)\n",
    "- Categorical variable 1: Largest Property Use Type: Property type of a building\n",
    "- Categorical variable 2: Borough\n",
    "\"\"\"\n",
    "\n",
    "# Relationships between property types and scores\n",
    "\n",
    "df_has_score = df.dropna(subset=['Score'])  # Select data with Score\n",
    "types = df_has_score['Largest Property Use Type'].value_counts()   # Count buildings by the property type\n",
    "types"
   ]
  },
  {
   "cell_type": "code",
   "execution_count": 21,
   "id": "2dcd0fba-4d9e-4f25-b8a0-39a05ac3ebbe",
   "metadata": {},
   "outputs": [
    {
     "data": {
      "text/plain": [
       "Index(['Multifamily Housing', 'Office', 'Hotel', 'Non-Refrigerated Warehouse'], dtype='object')"
      ]
     },
     "execution_count": 21,
     "metadata": {},
     "output_type": "execute_result"
    }
   ],
   "source": [
    "# Select property types whose frequencies are more than 100\n",
    "types_100 = types[types.values > 100].index\n",
    "types_100"
   ]
  },
  {
   "cell_type": "code",
   "execution_count": 22,
   "id": "5379219b-5a38-4a03-91e4-0b6ee0d79dc9",
   "metadata": {},
   "outputs": [
    {
     "data": {
      "text/plain": [
       "<matplotlib.legend.Legend at 0x7fc2c96a18e0>"
      ]
     },
     "execution_count": 22,
     "metadata": {},
     "output_type": "execute_result"
    }
   ],
   "source": [
    "# Plot the distribution of Scores for property types\n",
    "\n",
    "for b_type in types_100:\n",
    "    # Select buildings by property type\n",
    "    subset = df[df['Largest Property Use Type'] == b_type]\n",
    "    \n",
    "    # Density plot of Energy Star Scores\n",
    "    sns.kdeplot(subset['Score'].dropna(),\n",
    "               label=b_type, alpha=0.8)\n",
    "\n",
    "plt.xlabel('Energy Star Scores')\n",
    "plt.ylabel('Density')\n",
    "plt.title('Density Plot of Energy Star Scores by Building Type')\n",
    "plt.legend(loc='best')"
   ]
  },
  {
   "cell_type": "code",
   "execution_count": 23,
   "id": "0eb528ea-ac13-4e43-90a4-1a0c29bffc0e",
   "metadata": {},
   "outputs": [
    {
     "name": "stdout",
     "output_type": "stream",
     "text": [
      "Manhattan        3985\n",
      "Brooklyn         1947\n",
      "Queens           1707\n",
      "Bronx            1655\n",
      "Staten Island     119\n",
      "Name: Borough, dtype: int64\n"
     ]
    },
    {
     "data": {
      "text/plain": [
       "Index(['Manhattan', 'Brooklyn', 'Queens', 'Bronx', 'Staten Island'], dtype='object')"
      ]
     },
     "execution_count": 23,
     "metadata": {},
     "output_type": "execute_result"
    }
   ],
   "source": [
    "# Examine another categorical variable 'Borough'\n",
    "boroughs = df_has_score['Borough'].value_counts()  # Count buildings by the borough\n",
    "print(boroughs)\n",
    "\n",
    "boroughs = boroughs.index\n",
    "boroughs"
   ]
  },
  {
   "cell_type": "code",
   "execution_count": 24,
   "id": "33b2f64c-77ac-4332-b4ed-03909b8c103c",
   "metadata": {},
   "outputs": [
    {
     "data": {
      "text/plain": [
       "<matplotlib.legend.Legend at 0x7fc2aa0c4940>"
      ]
     },
     "execution_count": 24,
     "metadata": {},
     "output_type": "execute_result"
    }
   ],
   "source": [
    "# Plot each borough distribution of scores\n",
    "for borough in boroughs:\n",
    "    # Select buildings by borough\n",
    "    subset = df[df['Borough'] == borough]\n",
    "    \n",
    "    # Density plot of Energy Star Scores\n",
    "    sns.kdeplot(subset['Score'].dropna(),\n",
    "               label=borough)\n",
    "\n",
    "plt.xlabel(\"Energy Star Scores\")\n",
    "plt.ylabel('Density')\n",
    "plt.title(\"Density Plot of Energy Star Scores by Borough\")\n",
    "plt.legend(loc='best')\n"
   ]
  },
  {
   "cell_type": "code",
   "execution_count": 25,
   "id": "7777ca95-aef1-4279-a9c2-241da5791b1f",
   "metadata": {},
   "outputs": [
    {
     "data": {
      "text/plain": [
       "Site EUI (kBtu/ft²)                                          -0.723864\n",
       "Weather Normalized Site EUI (kBtu/ft²)                       -0.713993\n",
       "Weather Normalized Source EUI (kBtu/ft²)                     -0.645542\n",
       "Source EUI (kBtu/ft²)                                        -0.641037\n",
       "Weather Normalized Site Electricity Intensity (kWh/ft²)      -0.358394\n",
       "Weather Normalized Site Natural Gas Intensity (therms/ft²)   -0.346046\n",
       "Direct GHG Emissions (Metric Tons CO2e)                      -0.147792\n",
       "Weather Normalized Site Natural Gas Use (therms)             -0.135211\n",
       "Natural Gas Use (kBtu)                                       -0.133648\n",
       "Year Built                                                   -0.121249\n",
       "Total GHG Emissions (Metric Tons CO2e)                       -0.113136\n",
       "Electricity Use - Grid Purchase (kBtu)                       -0.050639\n",
       "Weather Normalized Site Electricity (kWh)                    -0.048207\n",
       "Latitude                                                     -0.048196\n",
       "Property Id                                                  -0.046605\n",
       "Indirect GHG Emissions (Metric Tons CO2e)                    -0.043982\n",
       "Longitude                                                    -0.037455\n",
       "Occupancy                                                    -0.033215\n",
       "Number of Buildings - Self-reported                          -0.022407\n",
       "Water Use (All Water Sources) (kgal)                         -0.013681\n",
       "Water Intensity (All Water Sources) (gal/ft²)                -0.012148\n",
       "Census Tract                                                 -0.002299\n",
       "DOF Gross Floor Area                                          0.013001\n",
       "Property GFA - Self-Reported (ft²)                            0.017360\n",
       "Largest Property Use Type - Gross Floor Area (ft²)            0.018330\n",
       "Order                                                         0.036827\n",
       "Community Board                                               0.056612\n",
       "Council District                                              0.061639\n",
       "Score                                                         1.000000\n",
       "Name: Score, dtype: float64"
      ]
     },
     "execution_count": 25,
     "metadata": {},
     "output_type": "execute_result"
    }
   ],
   "source": [
    "\"\"\"\n",
    "Correlations between Features and Target Variable\n",
    "\"\"\"\n",
    "\n",
    "# Calculate Pearson correlation coefficients between each feature and the target variable\n",
    "corr = df.corr()['Score'].sort_values()\n",
    "corr"
   ]
  },
  {
   "cell_type": "code",
   "execution_count": 26,
   "id": "74b41fa8-b991-461c-8611-a136cf865434",
   "metadata": {},
   "outputs": [],
   "source": [
    "\"\"\"\n",
    "Two-Variable Plots\n",
    "- Variable 1: Site EUI\n",
    "- Variable 2: Largest Property Use Type\n",
    "- Target: Energy Star Score\n",
    "\"\"\"\n",
    "\n",
    "# Extract the building types\n",
    "df['Largest Property Use Type'] = df.dropna(subset = ['Score'])['Largest Property Use Type']"
   ]
  },
  {
   "cell_type": "code",
   "execution_count": 27,
   "id": "118f691a-5b0d-44a5-b92a-53b9fd192a7d",
   "metadata": {},
   "outputs": [
    {
     "name": "stdout",
     "output_type": "stream",
     "text": [
      "Index(['Multifamily Housing', 'Office', 'Hotel', 'Non-Refrigerated Warehouse'], dtype='object')\n"
     ]
    },
    {
     "data": {
      "text/plain": [
       "(8979, 49)"
      ]
     },
     "execution_count": 27,
     "metadata": {},
     "output_type": "execute_result"
    }
   ],
   "source": [
    "# Limit to building types with more than 100 observations\n",
    "print(types_100)\n",
    "df = df[df['Largest Property Use Type'].isin(types_100)]\n",
    "df.shape"
   ]
  },
  {
   "cell_type": "code",
   "execution_count": 28,
   "id": "aeeaf899-86fd-41e9-b3e9-58e76d21060e",
   "metadata": {},
   "outputs": [
    {
     "name": "stderr",
     "output_type": "stream",
     "text": [
      "/opt/anaconda3/lib/python3.9/site-packages/seaborn/_decorators.py:36: FutureWarning: Pass the following variables as keyword args: x, y. From version 0.12, the only valid positional argument will be `data`, and passing other arguments without an explicit keyword will result in an error or misinterpretation.\n",
      "  warnings.warn(\n",
      "/opt/anaconda3/lib/python3.9/site-packages/seaborn/regression.py:581: UserWarning: The `size` parameter has been renamed to `height`; please update your code.\n",
      "  warnings.warn(msg, UserWarning)\n"
     ]
    },
    {
     "data": {
      "text/plain": [
       "Text(0.5, 1.0, 'Energy Star Score vs Site EUI')"
      ]
     },
     "execution_count": 28,
     "metadata": {},
     "output_type": "execute_result"
    }
   ],
   "source": [
    "# Scatterplot of Score vs Site EUI\n",
    "\n",
    "sns.lmplot('Site EUI (kBtu/ft²)', 'Score',\n",
    "          hue='Largest Property Use Type', data=df,\n",
    "          scatter_kws={'alpha': 0.8}, fit_reg=False,\n",
    "          size=12, aspect=1.2)\n",
    "\n",
    "plt.xlabel('Site EUI')\n",
    "plt.ylabel('Enery Star Score')\n",
    "plt.title('Energy Star Score vs Site EUI')"
   ]
  },
  {
   "cell_type": "code",
   "execution_count": 29,
   "id": "4b7ddcad-b1b4-4658-8932-8cf6e50b6958",
   "metadata": {},
   "outputs": [],
   "source": [
    "\"\"\"\n",
    "Pairs Plot\n",
    "\"\"\"\n",
    "\n",
    "# Select the columns to plot\n",
    "df_plot = df[['Score',\n",
    "              'Site EUI (kBtu/ft²)',\n",
    "              'Weather Normalized Site EUI (kBtu/ft²)',\n",
    "              'Weather Normalized Source EUI (kBtu/ft²)',\n",
    "              'Source EUI (kBtu/ft²)',\n",
    "              'Weather Normalized Site Electricity Intensity (kWh/ft²)',\n",
    "              'Total GHG Emissions (Metric Tons CO2e)']]"
   ]
  },
  {
   "cell_type": "code",
   "execution_count": 30,
   "id": "eb26259c-aabc-4357-aa52-ccc2e3a0faeb",
   "metadata": {},
   "outputs": [
    {
     "name": "stderr",
     "output_type": "stream",
     "text": [
      "/opt/anaconda3/lib/python3.9/site-packages/pandas/core/frame.py:5039: SettingWithCopyWarning: \n",
      "A value is trying to be set on a copy of a slice from a DataFrame\n",
      "\n",
      "See the caveats in the documentation: https://pandas.pydata.org/pandas-docs/stable/user_guide/indexing.html#returning-a-view-versus-a-copy\n",
      "  return super().rename(\n"
     ]
    }
   ],
   "source": [
    "# Rename columns\n",
    "df_plot.rename(columns={'Site EUI (kBtu/ft²)':\n",
    "                        'Site EUI',\n",
    "                       'Weather Normalized Site EUI (kBtu/ft²)':\n",
    "                        'Weather Norm Site EUI',\n",
    "                       'Weather Normalized Source EUI (kBtu/ft²)':\n",
    "                        'Weather Norm Src EUI)',\n",
    "                       'Source EUI (kBtu/ft²)':\n",
    "                        'Source EUI',\n",
    "                       'Weather Normalized Site Electricity Intensity (kWh/ft²)':\n",
    "                        'Weather Norm Site Elec Intensity',\n",
    "                       'Total GHG Emissions (Metric Tons CO2e)':\n",
    "                       'Total GHG Emissions'}, inplace=True)"
   ]
  },
  {
   "cell_type": "code",
   "execution_count": 31,
   "id": "44b1944b-8399-4e88-bd86-d248aabe0809",
   "metadata": {},
   "outputs": [],
   "source": [
    "# Replace the inf with nan\n",
    "df_plot = df_plot.replace({np.inf: np.nan, -np.inf: np.nan})\n",
    "\n",
    "# Drop NA values\n",
    "df_plot.dropna(inplace=True)"
   ]
  },
  {
   "cell_type": "code",
   "execution_count": 32,
   "id": "c531e9e2-02b6-45c9-95d1-5e1d1682cf5c",
   "metadata": {},
   "outputs": [
    {
     "data": {
      "text/plain": [
       "<seaborn.axisgrid.PairGrid at 0x7fc2cb085970>"
      ]
     },
     "execution_count": 32,
     "metadata": {},
     "output_type": "execute_result"
    }
   ],
   "source": [
    "# Function to calculate correlation coefficient between two columns\n",
    "\n",
    "# Plot a correlation matrix using pairplot\n",
    "sns.pairplot(df_plot, kind='reg', diag_kind='kde', \n",
    "            plot_kws={'scatter_kws': {'alpha': 0.1}})"
   ]
  },
  {
   "cell_type": "code",
   "execution_count": 33,
   "id": "4b042fbf-dbdb-4754-905c-09cdd76b3a2b",
   "metadata": {},
   "outputs": [
    {
     "name": "stderr",
     "output_type": "stream",
     "text": [
      "/var/folders/_s/mn_1d9wj3ws1vk93hjrqfv3r0000gn/T/ipykernel_1784/1010398800.py:14: SettingWithCopyWarning: \n",
      "A value is trying to be set on a copy of a slice from a DataFrame.\n",
      "Try using .loc[row_indexer,col_indexer] = value instead\n",
      "\n",
      "See the caveats in the documentation: https://pandas.pydata.org/pandas-docs/stable/user_guide/indexing.html#returning-a-view-versus-a-copy\n",
      "  df_numeric['sqrt_' + col] = np.sqrt(df_numeric[col])\n",
      "/var/folders/_s/mn_1d9wj3ws1vk93hjrqfv3r0000gn/T/ipykernel_1784/1010398800.py:15: SettingWithCopyWarning: \n",
      "A value is trying to be set on a copy of a slice from a DataFrame.\n",
      "Try using .loc[row_indexer,col_indexer] = value instead\n",
      "\n",
      "See the caveats in the documentation: https://pandas.pydata.org/pandas-docs/stable/user_guide/indexing.html#returning-a-view-versus-a-copy\n",
      "  df_numeric['log_' + col] = np.log(df_numeric[col])\n",
      "/opt/anaconda3/lib/python3.9/site-packages/pandas/core/arraylike.py:364: RuntimeWarning: divide by zero encountered in log\n",
      "  result = getattr(ufunc, method)(*inputs, **kwargs)\n",
      "/opt/anaconda3/lib/python3.9/site-packages/pandas/core/arraylike.py:364: RuntimeWarning: invalid value encountered in sqrt\n",
      "  result = getattr(ufunc, method)(*inputs, **kwargs)\n",
      "/opt/anaconda3/lib/python3.9/site-packages/pandas/core/arraylike.py:364: RuntimeWarning: invalid value encountered in log\n",
      "  result = getattr(ufunc, method)(*inputs, **kwargs)\n"
     ]
    }
   ],
   "source": [
    "\"\"\"\n",
    "Feature Extraction & Selection\n",
    "\"\"\"\n",
    "\n",
    "# Create columns with square root and log of numeric columns\n",
    "\n",
    "df_numeric = df.select_dtypes('number') # select the numeric columns\n",
    "\n",
    "for col in df_numeric.columns:\n",
    "    # Skip the Energy Star Score column\n",
    "    if col == 'Score':\n",
    "        continue\n",
    "    else:\n",
    "        df_numeric['sqrt_' + col] = np.sqrt(df_numeric[col])\n",
    "        df_numeric['log_' + col] = np.log(df_numeric[col])"
   ]
  },
  {
   "cell_type": "code",
   "execution_count": 34,
   "id": "948eb2f1-4939-4ad9-9def-1bb0b1752dc7",
   "metadata": {},
   "outputs": [
    {
     "data": {
      "text/html": [
       "<div>\n",
       "<style scoped>\n",
       "    .dataframe tbody tr th:only-of-type {\n",
       "        vertical-align: middle;\n",
       "    }\n",
       "\n",
       "    .dataframe tbody tr th {\n",
       "        vertical-align: top;\n",
       "    }\n",
       "\n",
       "    .dataframe thead th {\n",
       "        text-align: right;\n",
       "    }\n",
       "</style>\n",
       "<table border=\"1\" class=\"dataframe\">\n",
       "  <thead>\n",
       "    <tr style=\"text-align: right;\">\n",
       "      <th></th>\n",
       "      <th>Borough</th>\n",
       "      <th>Largest Property Use Type</th>\n",
       "    </tr>\n",
       "  </thead>\n",
       "  <tbody>\n",
       "    <tr>\n",
       "      <th>12</th>\n",
       "      <td>NaN</td>\n",
       "      <td>Multifamily Housing</td>\n",
       "    </tr>\n",
       "    <tr>\n",
       "      <th>18</th>\n",
       "      <td>NaN</td>\n",
       "      <td>Multifamily Housing</td>\n",
       "    </tr>\n",
       "    <tr>\n",
       "      <th>19</th>\n",
       "      <td>Manhattan</td>\n",
       "      <td>Multifamily Housing</td>\n",
       "    </tr>\n",
       "    <tr>\n",
       "      <th>20</th>\n",
       "      <td>Manhattan</td>\n",
       "      <td>Multifamily Housing</td>\n",
       "    </tr>\n",
       "    <tr>\n",
       "      <th>21</th>\n",
       "      <td>NaN</td>\n",
       "      <td>Multifamily Housing</td>\n",
       "    </tr>\n",
       "  </tbody>\n",
       "</table>\n",
       "</div>"
      ],
      "text/plain": [
       "      Borough Largest Property Use Type\n",
       "12        NaN       Multifamily Housing\n",
       "18        NaN       Multifamily Housing\n",
       "19  Manhattan       Multifamily Housing\n",
       "20  Manhattan       Multifamily Housing\n",
       "21        NaN       Multifamily Housing"
      ]
     },
     "execution_count": 34,
     "metadata": {},
     "output_type": "execute_result"
    }
   ],
   "source": [
    "# One-hot encoding for the categorical columns\n",
    "\n",
    "df_categoric = df[['Borough', 'Largest Property Use Type']]  # Select the categorical columns\n",
    "df_categoric.head()"
   ]
  },
  {
   "cell_type": "code",
   "execution_count": 35,
   "id": "d8b684c7-7d6c-45e9-82ca-d66b41a85cf7",
   "metadata": {},
   "outputs": [
    {
     "data": {
      "text/html": [
       "<div>\n",
       "<style scoped>\n",
       "    .dataframe tbody tr th:only-of-type {\n",
       "        vertical-align: middle;\n",
       "    }\n",
       "\n",
       "    .dataframe tbody tr th {\n",
       "        vertical-align: top;\n",
       "    }\n",
       "\n",
       "    .dataframe thead th {\n",
       "        text-align: right;\n",
       "    }\n",
       "</style>\n",
       "<table border=\"1\" class=\"dataframe\">\n",
       "  <thead>\n",
       "    <tr style=\"text-align: right;\">\n",
       "      <th></th>\n",
       "      <th>Borough_Bronx</th>\n",
       "      <th>Borough_Brooklyn</th>\n",
       "      <th>Borough_Manhattan</th>\n",
       "      <th>Borough_Queens</th>\n",
       "      <th>Borough_Staten Island</th>\n",
       "      <th>Largest Property Use Type_Hotel</th>\n",
       "      <th>Largest Property Use Type_Multifamily Housing</th>\n",
       "      <th>Largest Property Use Type_Non-Refrigerated Warehouse</th>\n",
       "      <th>Largest Property Use Type_Office</th>\n",
       "    </tr>\n",
       "  </thead>\n",
       "  <tbody>\n",
       "    <tr>\n",
       "      <th>12</th>\n",
       "      <td>0</td>\n",
       "      <td>0</td>\n",
       "      <td>0</td>\n",
       "      <td>0</td>\n",
       "      <td>0</td>\n",
       "      <td>0</td>\n",
       "      <td>1</td>\n",
       "      <td>0</td>\n",
       "      <td>0</td>\n",
       "    </tr>\n",
       "    <tr>\n",
       "      <th>18</th>\n",
       "      <td>0</td>\n",
       "      <td>0</td>\n",
       "      <td>0</td>\n",
       "      <td>0</td>\n",
       "      <td>0</td>\n",
       "      <td>0</td>\n",
       "      <td>1</td>\n",
       "      <td>0</td>\n",
       "      <td>0</td>\n",
       "    </tr>\n",
       "    <tr>\n",
       "      <th>19</th>\n",
       "      <td>0</td>\n",
       "      <td>0</td>\n",
       "      <td>1</td>\n",
       "      <td>0</td>\n",
       "      <td>0</td>\n",
       "      <td>0</td>\n",
       "      <td>1</td>\n",
       "      <td>0</td>\n",
       "      <td>0</td>\n",
       "    </tr>\n",
       "    <tr>\n",
       "      <th>20</th>\n",
       "      <td>0</td>\n",
       "      <td>0</td>\n",
       "      <td>1</td>\n",
       "      <td>0</td>\n",
       "      <td>0</td>\n",
       "      <td>0</td>\n",
       "      <td>1</td>\n",
       "      <td>0</td>\n",
       "      <td>0</td>\n",
       "    </tr>\n",
       "    <tr>\n",
       "      <th>21</th>\n",
       "      <td>0</td>\n",
       "      <td>0</td>\n",
       "      <td>0</td>\n",
       "      <td>0</td>\n",
       "      <td>0</td>\n",
       "      <td>0</td>\n",
       "      <td>1</td>\n",
       "      <td>0</td>\n",
       "      <td>0</td>\n",
       "    </tr>\n",
       "  </tbody>\n",
       "</table>\n",
       "</div>"
      ],
      "text/plain": [
       "    Borough_Bronx  Borough_Brooklyn  Borough_Manhattan  Borough_Queens  \\\n",
       "12              0                 0                  0               0   \n",
       "18              0                 0                  0               0   \n",
       "19              0                 0                  1               0   \n",
       "20              0                 0                  1               0   \n",
       "21              0                 0                  0               0   \n",
       "\n",
       "    Borough_Staten Island  Largest Property Use Type_Hotel  \\\n",
       "12                      0                                0   \n",
       "18                      0                                0   \n",
       "19                      0                                0   \n",
       "20                      0                                0   \n",
       "21                      0                                0   \n",
       "\n",
       "    Largest Property Use Type_Multifamily Housing  \\\n",
       "12                                              1   \n",
       "18                                              1   \n",
       "19                                              1   \n",
       "20                                              1   \n",
       "21                                              1   \n",
       "\n",
       "    Largest Property Use Type_Non-Refrigerated Warehouse  \\\n",
       "12                                                  0      \n",
       "18                                                  0      \n",
       "19                                                  0      \n",
       "20                                                  0      \n",
       "21                                                  0      \n",
       "\n",
       "    Largest Property Use Type_Office  \n",
       "12                                 0  \n",
       "18                                 0  \n",
       "19                                 0  \n",
       "20                                 0  \n",
       "21                                 0  "
      ]
     },
     "execution_count": 35,
     "metadata": {},
     "output_type": "execute_result"
    }
   ],
   "source": [
    "df_categoric = pd.get_dummies(df_categoric)  # One-hot encoding\n",
    "df_categoric.head()"
   ]
  },
  {
   "cell_type": "code",
   "execution_count": 36,
   "id": "0ff4b7f8-635c-4098-bf2c-542810396834",
   "metadata": {},
   "outputs": [],
   "source": [
    "# Join the two DataFrames using concat\n",
    "df_transformed = pd.concat([df_numeric, df_categoric], axis=1)\n",
    "\n",
    "# Drop buildings without an Energy Star Score\n",
    "df_transformed.dropna(subset=['Score'], inplace=True)"
   ]
  },
  {
   "cell_type": "code",
   "execution_count": 37,
   "id": "142986bc-87c9-42fb-b6d7-f84884d4b8f7",
   "metadata": {},
   "outputs": [
    {
     "data": {
      "text/plain": [
       "(8979, 94)"
      ]
     },
     "execution_count": 37,
     "metadata": {},
     "output_type": "execute_result"
    }
   ],
   "source": [
    "df_transformed.shape"
   ]
  },
  {
   "cell_type": "code",
   "execution_count": 38,
   "id": "c9d97746-5f88-4b17-9050-1708e7bef6fd",
   "metadata": {},
   "outputs": [
    {
     "data": {
      "text/plain": [
       "Text(0.5, 1.0, 'Weather Norm EUI vs Site EUI, R = 0.9964')"
      ]
     },
     "execution_count": 38,
     "metadata": {},
     "output_type": "execute_result"
    }
   ],
   "source": [
    "\"\"\"\n",
    "Remove Collinear Features\n",
    "\"\"\"\n",
    "\n",
    "df_plot = df[['Weather Normalized Site EUI (kBtu/ft²)', \n",
    "              'Site EUI (kBtu/ft²)']].dropna()\n",
    "\n",
    "plt.plot(df_plot['Site EUI (kBtu/ft²)'], \n",
    "         df_plot['Weather Normalized Site EUI (kBtu/ft²)'], \n",
    "         'bo')\n",
    "plt.xlabel('Site EUI')\n",
    "plt.ylabel('Weather Norm EUI')\n",
    "plt.title('Weather Norm EUI vs Site EUI, R = %0.4f' % \n",
    "          np.corrcoef(df[['Weather Normalized Site EUI (kBtu/ft²)',\n",
    "                          'Site EUI (kBtu/ft²)']].dropna(), rowvar=False)[0][1])"
   ]
  },
  {
   "cell_type": "code",
   "execution_count": 39,
   "id": "af5fc9f1-3eb9-4256-878b-eb29372a7064",
   "metadata": {},
   "outputs": [],
   "source": [
    "def remove_collinear_features(x, threshold):\n",
    "    '''\n",
    "    Objective:\n",
    "        Remove collinear features in a dataframe with a correlation coefficient\n",
    "        greater than the threshold. Removing collinear features can help a model\n",
    "        to generalize and improves the interpretability of the model.\n",
    "        \n",
    "    Inputs: \n",
    "        threshold: any features with correlations greater than this value are removed\n",
    "    \n",
    "    Output: \n",
    "        dataframe that contains only the non-highly-collinear features\n",
    "    '''\n",
    "    \n",
    "    # Dont want to remove correlations between Energy Star Score\n",
    "    y = x['Score']\n",
    "    x = x.drop(columns = ['Score'])\n",
    "    \n",
    "    # Calculate the correlation matrix\n",
    "    corr_matrix = x.corr()\n",
    "    iters = range(len(corr_matrix.columns) - 1)\n",
    "    drop_cols = []\n",
    "\n",
    "    # Iterate through the correlation matrix and compare correlations\n",
    "    for i in iters:\n",
    "        for j in range(i):\n",
    "            item = corr_matrix.iloc[j:(j+1), (i+1):(i+2)]\n",
    "            col = item.columns\n",
    "            row = item.index\n",
    "            val = abs(item.values)\n",
    "            \n",
    "            # If correlation exceeds the threshold\n",
    "            if val >= threshold:\n",
    "                # Print the correlated features and the correlation value\n",
    "                # print(col.values[0], \"|\", row.values[0], \"|\", round(val[0][0], 2))\n",
    "                drop_cols.append(col.values[0])\n",
    "\n",
    "    # Drop one of each pair of correlated columns\n",
    "    drops = set(drop_cols)\n",
    "    x = x.drop(columns = drops)\n",
    "    x = x.drop(columns = ['Weather Normalized Site EUI (kBtu/ft²)', \n",
    "                          'Water Use (All Water Sources) (kgal)',\n",
    "                          'log_Water Use (All Water Sources) (kgal)',\n",
    "                          'Largest Property Use Type - Gross Floor Area (ft²)'])\n",
    "    \n",
    "    # Add the score back in to the data\n",
    "    x['Score'] = y\n",
    "               \n",
    "    return x"
   ]
  },
  {
   "cell_type": "code",
   "execution_count": 40,
   "id": "a1619610-40fd-4500-9a6b-6b0b7eb6af1b",
   "metadata": {},
   "outputs": [],
   "source": [
    "# Remove the collinear features above a specified correlation coefficient\n",
    "collinear_threshold = 0.6\n",
    "features = remove_collinear_features(df_transformed, collinear_threshold)"
   ]
  },
  {
   "cell_type": "code",
   "execution_count": 41,
   "id": "64aae7d4-49ea-4c80-8b31-4338095522e6",
   "metadata": {},
   "outputs": [
    {
     "data": {
      "text/plain": [
       "(8979, 22)"
      ]
     },
     "execution_count": 41,
     "metadata": {},
     "output_type": "execute_result"
    }
   ],
   "source": [
    "# Remove any columns with all na values\n",
    "features.dropna(axis=1, how = 'all', inplace=True)\n",
    "features.shape"
   ]
  },
  {
   "cell_type": "code",
   "execution_count": 42,
   "id": "dd17e266-559e-4f1e-b947-5aec3d49bab0",
   "metadata": {},
   "outputs": [
    {
     "name": "stdout",
     "output_type": "stream",
     "text": [
      "<class 'pandas.core.frame.DataFrame'>\n",
      "Int64Index: 8979 entries, 12 to 11745\n",
      "Data columns (total 22 columns):\n",
      " #   Column                                                      Non-Null Count  Dtype  \n",
      "---  ------                                                      --------------  -----  \n",
      " 0   Order                                                       8979 non-null   int64  \n",
      " 1   Property Id                                                 8979 non-null   int64  \n",
      " 2   DOF Gross Floor Area                                        8942 non-null   float64\n",
      " 3   Year Built                                                  8979 non-null   int64  \n",
      " 4   Number of Buildings - Self-reported                         8979 non-null   int64  \n",
      " 5   Occupancy                                                   8979 non-null   int64  \n",
      " 6   Site EUI (kBtu/ft²)                                         8979 non-null   float64\n",
      " 7   Weather Normalized Site Electricity Intensity (kWh/ft²)     8542 non-null   float64\n",
      " 8   Weather Normalized Site Natural Gas Intensity (therms/ft²)  7660 non-null   float64\n",
      " 9   Natural Gas Use (kBtu)                                      8036 non-null   float64\n",
      " 10  Weather Normalized Site Natural Gas Use (therms)            7660 non-null   float64\n",
      " 11  Water Intensity (All Water Sources) (gal/ft²)               6114 non-null   float64\n",
      " 12  Latitude                                                    7301 non-null   float64\n",
      " 13  Longitude                                                   7301 non-null   float64\n",
      " 14  Community Board                                             7301 non-null   float64\n",
      " 15  Census Tract                                                7301 non-null   float64\n",
      " 16  log_Direct GHG Emissions (Metric Tons CO2e)                 8966 non-null   float64\n",
      " 17  Borough_Staten Island                                       8979 non-null   uint8  \n",
      " 18  Largest Property Use Type_Hotel                             8979 non-null   uint8  \n",
      " 19  Largest Property Use Type_Multifamily Housing               8979 non-null   uint8  \n",
      " 20  Largest Property Use Type_Non-Refrigerated Warehouse        8979 non-null   uint8  \n",
      " 21  Score                                                       8979 non-null   float64\n",
      "dtypes: float64(13), int64(5), uint8(4)\n",
      "memory usage: 1.3 MB\n"
     ]
    }
   ],
   "source": [
    "features.info()"
   ]
  },
  {
   "cell_type": "code",
   "execution_count": 43,
   "id": "bf4ee444-aebb-45d0-a606-11f26edccce3",
   "metadata": {},
   "outputs": [
    {
     "name": "stdout",
     "output_type": "stream",
     "text": [
      "(6285, 21)\n",
      "(2694, 21)\n",
      "(6285, 1)\n",
      "(2694, 1)\n"
     ]
    }
   ],
   "source": [
    "\"\"\"\n",
    "Split Into Training and Testing Sets\n",
    "\"\"\"\n",
    "\n",
    "# Splitting data into training and testing\n",
    "from sklearn.model_selection import train_test_split\n",
    "\n",
    "# Separate out the features and targets\n",
    "targets = pd.DataFrame(features['Score']) # y: vector\n",
    "features = features.drop(columns='Score') # X: matrix\n",
    "\n",
    "# Replace the inf and -inf with nan (required for later imputation)\n",
    "features = features.replace({np.inf: np.nan, -np.inf: np.nan})\n",
    "\n",
    "# Handle the missing values with imputations\n",
    "features.interpolate(inplace=True)\n",
    "features.bfill(inplace=True)\n",
    "\n",
    "# Split into 70% training and 30% testing set\n",
    "X_train, X_test, y_train, y_test = train_test_split(\n",
    "    features, targets, test_size = 0.3, random_state = 42)\n",
    "\n",
    "print(X_train.shape)\n",
    "print(X_test.shape)\n",
    "print(y_train.shape) # 학습 시 정답지\n",
    "print(y_test.shape) # 테스트 시 정답"
   ]
  },
  {
   "cell_type": "code",
   "execution_count": 44,
   "id": "90497e3b-c2e8-4ee1-96f0-bf54fa4a9f49",
   "metadata": {},
   "outputs": [
    {
     "name": "stderr",
     "output_type": "stream",
     "text": [
      "/var/folders/_s/mn_1d9wj3ws1vk93hjrqfv3r0000gn/T/ipykernel_1784/1375249803.py:6: DataConversionWarning: A column-vector y was passed when a 1d array was expected. Please change the shape of y to (n_samples,), for example using ravel().\n",
      "  model.fit(X_train, y_train)\n"
     ]
    },
    {
     "data": {
      "text/plain": [
       "RandomForestRegressor()"
      ]
     },
     "execution_count": 44,
     "metadata": {},
     "output_type": "execute_result"
    }
   ],
   "source": [
    "# Train the model\n",
    "\n",
    "from sklearn.ensemble import RandomForestRegressor\n",
    "\n",
    "model = RandomForestRegressor()\n",
    "model.fit(X_train, y_train)"
   ]
  },
  {
   "cell_type": "code",
   "execution_count": 45,
   "id": "fadb9548-f86a-4b38-b748-4691be3a98e8",
   "metadata": {},
   "outputs": [
    {
     "name": "stdout",
     "output_type": "stream",
     "text": [
      "[82. 23. 44. ... 78. 87. 78.] [74.22 34.68 45.76 ... 57.08 81.69 72.82]\n"
     ]
    }
   ],
   "source": [
    "y_hat = model.predict(X_test) \n",
    "print(y_test.values.reshape(-1), y_hat)"
   ]
  },
  {
   "cell_type": "code",
   "execution_count": 46,
   "id": "ead7698b-7311-42c5-8188-00d878ef4b32",
   "metadata": {},
   "outputs": [],
   "source": [
    "from sklearn.metrics import mean_absolute_error\n",
    "\n",
    "mae = mean_absolute_error(y_test, y_hat)"
   ]
  },
  {
   "cell_type": "code",
   "execution_count": 47,
   "id": "3acb7cb0-bb77-4db7-85d6-3da64af6eac8",
   "metadata": {},
   "outputs": [
    {
     "name": "stdout",
     "output_type": "stream",
     "text": [
      "Baseline Performance on the test set: MAE = 9.2615\n"
     ]
    }
   ],
   "source": [
    "print(\"Baseline Performance on the test set: MAE = %0.4f\" % mae)"
   ]
  },
  {
   "cell_type": "code",
   "execution_count": 48,
   "id": "a64b54a7-837f-4afe-9786-04a2ff21e94a",
   "metadata": {},
   "outputs": [
    {
     "data": {
      "text/plain": [
       "<matplotlib.legend.Legend at 0x7fc2abdf88e0>"
      ]
     },
     "execution_count": 48,
     "metadata": {},
     "output_type": "execute_result"
    }
   ],
   "source": [
    "plt.plot(y_test.values.reshape(-1), label='Actual')\n",
    "plt.plot(y_hat, label='Prediction')\n",
    "plt.legend(loc='best')"
   ]
  },
  {
   "cell_type": "code",
   "execution_count": 49,
   "id": "221da777-a422-43f3-93a5-19204bebc351",
   "metadata": {},
   "outputs": [
    {
     "data": {
      "text/plain": [
       "Text(0, 0.5, 'Prediction')"
      ]
     },
     "execution_count": 49,
     "metadata": {},
     "output_type": "execute_result"
    }
   ],
   "source": [
    "plt.plot(y_test.values.reshape(-1), y_hat, 'bo')\n",
    "plt.xlabel(\"Actual\")\n",
    "plt.ylabel(\"Prediction\")"
   ]
  },
  {
   "cell_type": "code",
   "execution_count": 50,
   "id": "acfdf8d6-884b-495a-ae5a-9d5aa66b9164",
   "metadata": {},
   "outputs": [],
   "source": [
    "import numpy as np\n",
    "import matplotlib.pyplot as plt\n",
    "from sklearn.naive_bayes import GaussianNB\n",
    "from sklearn.svm import SVC\n",
    "from sklearn.datasets import load_digits\n",
    "from sklearn.model_selection import learning_curve\n",
    "from sklearn.model_selection import ShuffleSplit\n",
    "\n",
    "\n",
    "def plot_learning_curve(\n",
    "    estimator,\n",
    "    title,\n",
    "    X,\n",
    "    y,\n",
    "    axes=None,\n",
    "    ylim=None,\n",
    "    cv=None,\n",
    "    n_jobs=None,\n",
    "    train_sizes=np.linspace(0.1, 1.0, 5),\n",
    "):\n",
    "    \"\"\"\n",
    "    Generate 3 plots: the test and training learning curve, the training\n",
    "    samples vs fit times curve, the fit times vs score curve.\n",
    "\n",
    "    Parameters\n",
    "    ----------\n",
    "    estimator : estimator instance\n",
    "        An estimator instance implementing `fit` and `predict` methods which\n",
    "        will be cloned for each validation.\n",
    "\n",
    "    title : str\n",
    "        Title for the chart.\n",
    "\n",
    "    X : array-like of shape (n_samples, n_features)\n",
    "        Training vector, where ``n_samples`` is the number of samples and\n",
    "        ``n_features`` is the number of features.\n",
    "\n",
    "    y : array-like of shape (n_samples) or (n_samples, n_features)\n",
    "        Target relative to ``X`` for classification or regression;\n",
    "        None for unsupervised learning.\n",
    "\n",
    "    axes : array-like of shape (3,), default=None\n",
    "        Axes to use for plotting the curves.\n",
    "\n",
    "    ylim : tuple of shape (2,), default=None\n",
    "        Defines minimum and maximum y-values plotted, e.g. (ymin, ymax).\n",
    "\n",
    "    cv : int, cross-validation generator or an iterable, default=None\n",
    "        Determines the cross-validation splitting strategy.\n",
    "        Possible inputs for cv are:\n",
    "\n",
    "          - None, to use the default 5-fold cross-validation,\n",
    "          - integer, to specify the number of folds.\n",
    "          - :term:`CV splitter`,\n",
    "          - An iterable yielding (train, test) splits as arrays of indices.\n",
    "\n",
    "        For integer/None inputs, if ``y`` is binary or multiclass,\n",
    "        :class:`StratifiedKFold` used. If the estimator is not a classifier\n",
    "        or if ``y`` is neither binary nor multiclass, :class:`KFold` is used.\n",
    "\n",
    "        Refer :ref:`User Guide <cross_validation>` for the various\n",
    "        cross-validators that can be used here.\n",
    "\n",
    "    n_jobs : int or None, default=None\n",
    "        Number of jobs to run in parallel.\n",
    "        ``None`` means 1 unless in a :obj:`joblib.parallel_backend` context.\n",
    "        ``-1`` means using all processors. See :term:`Glossary <n_jobs>`\n",
    "        for more details.\n",
    "\n",
    "    train_sizes : array-like of shape (n_ticks,)\n",
    "        Relative or absolute numbers of training examples that will be used to\n",
    "        generate the learning curve. If the ``dtype`` is float, it is regarded\n",
    "        as a fraction of the maximum size of the training set (that is\n",
    "        determined by the selected validation method), i.e. it has to be within\n",
    "        (0, 1]. Otherwise it is interpreted as absolute sizes of the training\n",
    "        sets. Note that for classification the number of samples usually have\n",
    "        to be big enough to contain at least one sample from each class.\n",
    "        (default: np.linspace(0.1, 1.0, 5))\n",
    "    \"\"\"\n",
    "    if axes is None:\n",
    "        _, axes = plt.subplots(1, 3, figsize=(20, 5))\n",
    "\n",
    "    axes[0].set_title(title)\n",
    "    if ylim is not None:\n",
    "        axes[0].set_ylim(*ylim)\n",
    "    axes[0].set_xlabel(\"Training examples\")\n",
    "    axes[0].set_ylabel(\"Score\")\n",
    "\n",
    "    train_sizes, train_scores, test_scores, fit_times, _ = learning_curve(\n",
    "        estimator,\n",
    "        X,\n",
    "        y,\n",
    "        cv=cv,\n",
    "        n_jobs=n_jobs,\n",
    "        train_sizes=train_sizes,\n",
    "        return_times=True,\n",
    "    )\n",
    "    train_scores_mean = np.mean(train_scores, axis=1)\n",
    "    train_scores_std = np.std(train_scores, axis=1)\n",
    "    test_scores_mean = np.mean(test_scores, axis=1)\n",
    "    test_scores_std = np.std(test_scores, axis=1)\n",
    "    fit_times_mean = np.mean(fit_times, axis=1)\n",
    "    fit_times_std = np.std(fit_times, axis=1)\n",
    "\n",
    "    # Plot learning curve\n",
    "    axes[0].grid()\n",
    "    axes[0].fill_between(\n",
    "        train_sizes,\n",
    "        train_scores_mean - train_scores_std,\n",
    "        train_scores_mean + train_scores_std,\n",
    "        alpha=0.1,\n",
    "        color=\"r\",\n",
    "    )\n",
    "    axes[0].fill_between(\n",
    "        train_sizes,\n",
    "        test_scores_mean - test_scores_std,\n",
    "        test_scores_mean + test_scores_std,\n",
    "        alpha=0.1,\n",
    "        color=\"g\",\n",
    "    )\n",
    "    axes[0].plot(\n",
    "        train_sizes, train_scores_mean, \"o-\", color=\"r\", label=\"Training score\"\n",
    "    )\n",
    "    axes[0].plot(\n",
    "        train_sizes, test_scores_mean, \"o-\", color=\"g\", label=\"Cross-validation score\"\n",
    "    )\n",
    "    axes[0].legend(loc=\"best\")\n",
    "\n",
    "    # Plot n_samples vs fit_times\n",
    "    axes[1].grid()\n",
    "    axes[1].plot(train_sizes, fit_times_mean, \"o-\")\n",
    "    axes[1].fill_between(\n",
    "        train_sizes,\n",
    "        fit_times_mean - fit_times_std,\n",
    "        fit_times_mean + fit_times_std,\n",
    "        alpha=0.1,\n",
    "    )\n",
    "    axes[1].set_xlabel(\"Training examples\")\n",
    "    axes[1].set_ylabel(\"fit_times\")\n",
    "    axes[1].set_title(\"Scalability of the model\")\n",
    "\n",
    "    # Plot fit_time vs score\n",
    "    axes[2].grid()\n",
    "    axes[2].plot(fit_times_mean, test_scores_mean, \"o-\")\n",
    "    axes[2].fill_between(\n",
    "        fit_times_mean,\n",
    "        test_scores_mean - test_scores_std,\n",
    "        test_scores_mean + test_scores_std,\n",
    "        alpha=0.1,\n",
    "    )\n",
    "    axes[2].set_xlabel(\"fit_times\")\n",
    "    axes[2].set_ylabel(\"Score\")\n",
    "    axes[2].set_title(\"Performance of the model\")\n",
    "\n",
    "    return plt"
   ]
  },
  {
   "cell_type": "code",
   "execution_count": 52,
   "id": "14b38a8b-5b46-4617-a256-63178d2305e2",
   "metadata": {},
   "outputs": [
    {
     "name": "stderr",
     "output_type": "stream",
     "text": [
      "/opt/anaconda3/lib/python3.9/site-packages/sklearn/linear_model/_coordinate_descent.py:530: ConvergenceWarning: Objective did not converge. You might want to increase the number of iterations. Duality gap: 72442.60976241398, tolerance: 44.82959043824702\n",
      "  model = cd_fast.enet_coordinate_descent(\n",
      "/opt/anaconda3/lib/python3.9/site-packages/sklearn/linear_model/_coordinate_descent.py:530: ConvergenceWarning: Objective did not converge. You might want to increase the number of iterations. Duality gap: 63335.968433104834, tolerance: 44.51902390438247\n",
      "  model = cd_fast.enet_coordinate_descent(\n",
      "/opt/anaconda3/lib/python3.9/site-packages/sklearn/linear_model/_coordinate_descent.py:530: ConvergenceWarning: Objective did not converge. You might want to increase the number of iterations. Duality gap: 236103.48103285383, tolerance: 137.914608629131\n",
      "  model = cd_fast.enet_coordinate_descent(\n",
      "/opt/anaconda3/lib/python3.9/site-packages/sklearn/linear_model/_coordinate_descent.py:530: ConvergenceWarning: Objective did not converge. You might want to increase the number of iterations. Duality gap: 81685.19793836975, tolerance: 41.82685657370518\n",
      "  model = cd_fast.enet_coordinate_descent(\n",
      "/opt/anaconda3/lib/python3.9/site-packages/sklearn/linear_model/_coordinate_descent.py:530: ConvergenceWarning: Objective did not converge. You might want to increase the number of iterations. Duality gap: 21559.889079250963, tolerance: 43.07847649402391\n",
      "  model = cd_fast.enet_coordinate_descent(\n",
      "/opt/anaconda3/lib/python3.9/site-packages/sklearn/linear_model/_coordinate_descent.py:530: ConvergenceWarning: Objective did not converge. You might want to increase the number of iterations. Duality gap: 247103.7808226213, tolerance: 140.62617037943699\n",
      "  model = cd_fast.enet_coordinate_descent(\n",
      "/opt/anaconda3/lib/python3.9/site-packages/sklearn/linear_model/_coordinate_descent.py:530: ConvergenceWarning: Objective did not converge. You might want to increase the number of iterations. Duality gap: 588.5463030587416, tolerance: 241.70560050632932\n",
      "  model = cd_fast.enet_coordinate_descent(\n",
      "/opt/anaconda3/lib/python3.9/site-packages/sklearn/linear_model/_coordinate_descent.py:530: ConvergenceWarning: Objective did not converge. You might want to increase the number of iterations. Duality gap: 68077.41448018719, tolerance: 45.8865003984064\n",
      "  model = cd_fast.enet_coordinate_descent(\n",
      "/opt/anaconda3/lib/python3.9/site-packages/sklearn/linear_model/_coordinate_descent.py:530: ConvergenceWarning: Objective did not converge. You might want to increase the number of iterations. Duality gap: 55476.50942378404, tolerance: 143.21704853121182\n",
      "  model = cd_fast.enet_coordinate_descent(\n",
      "/opt/anaconda3/lib/python3.9/site-packages/sklearn/linear_model/_coordinate_descent.py:530: ConvergenceWarning: Objective did not converge. You might want to increase the number of iterations. Duality gap: 78805.74563140894, tolerance: 45.889835059760955\n",
      "  model = cd_fast.enet_coordinate_descent(\n",
      "/opt/anaconda3/lib/python3.9/site-packages/sklearn/linear_model/_coordinate_descent.py:530: ConvergenceWarning: Objective did not converge. You might want to increase the number of iterations. Duality gap: 207023.38224445132, tolerance: 241.23791992766732\n",
      "  model = cd_fast.enet_coordinate_descent(\n",
      "/opt/anaconda3/lib/python3.9/site-packages/sklearn/linear_model/_coordinate_descent.py:530: ConvergenceWarning: Objective did not converge. You might want to increase the number of iterations. Duality gap: 250611.38909599753, tolerance: 142.21604847001228\n",
      "  model = cd_fast.enet_coordinate_descent(\n",
      "/opt/anaconda3/lib/python3.9/site-packages/sklearn/linear_model/_coordinate_descent.py:530: ConvergenceWarning: Objective did not converge. You might want to increase the number of iterations. Duality gap: 62771.40451462784, tolerance: 43.57391633466136\n",
      "  model = cd_fast.enet_coordinate_descent(\n",
      "/opt/anaconda3/lib/python3.9/site-packages/sklearn/linear_model/_coordinate_descent.py:530: ConvergenceWarning: Objective did not converge. You might want to increase the number of iterations. Duality gap: 563391.8127850203, tolerance: 342.4984381673513\n",
      "  model = cd_fast.enet_coordinate_descent(\n",
      "/opt/anaconda3/lib/python3.9/site-packages/sklearn/linear_model/_coordinate_descent.py:530: ConvergenceWarning: Objective did not converge. You might want to increase the number of iterations. Duality gap: 741877.8561370352, tolerance: 439.05373595863193\n",
      "  model = cd_fast.enet_coordinate_descent(\n",
      "/opt/anaconda3/lib/python3.9/site-packages/sklearn/linear_model/_coordinate_descent.py:530: ConvergenceWarning: Objective did not converge. You might want to increase the number of iterations. Duality gap: 235496.3989854614, tolerance: 143.54360226438192\n",
      "  model = cd_fast.enet_coordinate_descent(\n",
      "/opt/anaconda3/lib/python3.9/site-packages/sklearn/linear_model/_coordinate_descent.py:530: ConvergenceWarning: Objective did not converge. You might want to increase the number of iterations. Duality gap: 400419.53829667775, tolerance: 241.49525186256764\n",
      "  model = cd_fast.enet_coordinate_descent(\n",
      "/opt/anaconda3/lib/python3.9/site-packages/sklearn/linear_model/_coordinate_descent.py:530: ConvergenceWarning: Objective did not converge. You might want to increase the number of iterations. Duality gap: 610.5539902567543, tolerance: 43.45397549800797\n",
      "  model = cd_fast.enet_coordinate_descent(\n",
      "/opt/anaconda3/lib/python3.9/site-packages/sklearn/linear_model/_coordinate_descent.py:530: ConvergenceWarning: Objective did not converge. You might want to increase the number of iterations. Duality gap: 571482.5736024472, tolerance: 337.5677582905544\n",
      "  model = cd_fast.enet_coordinate_descent(\n",
      "/opt/anaconda3/lib/python3.9/site-packages/sklearn/linear_model/_coordinate_descent.py:530: ConvergenceWarning: Objective did not converge. You might want to increase the number of iterations. Duality gap: 3595.401190845645, tolerance: 140.35077411260707\n",
      "  model = cd_fast.enet_coordinate_descent(\n",
      "/opt/anaconda3/lib/python3.9/site-packages/sklearn/linear_model/_coordinate_descent.py:530: ConvergenceWarning: Objective did not converge. You might want to increase the number of iterations. Duality gap: 12161.507055092574, tolerance: 43.03805836653386\n",
      "  model = cd_fast.enet_coordinate_descent(\n",
      "/opt/anaconda3/lib/python3.9/site-packages/sklearn/linear_model/_coordinate_descent.py:530: ConvergenceWarning: Objective did not converge. You might want to increase the number of iterations. Duality gap: 204095.34442419707, tolerance: 139.087155263158\n",
      "  model = cd_fast.enet_coordinate_descent(\n",
      "/opt/anaconda3/lib/python3.9/site-packages/sklearn/linear_model/_coordinate_descent.py:530: ConvergenceWarning: Objective did not converge. You might want to increase the number of iterations. Duality gap: 391032.95539180376, tolerance: 233.7066571428573\n",
      "  model = cd_fast.enet_coordinate_descent(\n",
      "/opt/anaconda3/lib/python3.9/site-packages/sklearn/linear_model/_coordinate_descent.py:530: ConvergenceWarning: Objective did not converge. You might want to increase the number of iterations. Duality gap: 6390.912653172214, tolerance: 142.36741572827424\n",
      "  model = cd_fast.enet_coordinate_descent(\n",
      "/opt/anaconda3/lib/python3.9/site-packages/sklearn/linear_model/_coordinate_descent.py:530: ConvergenceWarning: Objective did not converge. You might want to increase the number of iterations. Duality gap: 575648.2992154865, tolerance: 334.3833478182753\n",
      "  model = cd_fast.enet_coordinate_descent(\n",
      "/opt/anaconda3/lib/python3.9/site-packages/sklearn/linear_model/_coordinate_descent.py:530: ConvergenceWarning: Objective did not converge. You might want to increase the number of iterations. Duality gap: 70776.11101774577, tolerance: 43.84389243027889\n",
      "  model = cd_fast.enet_coordinate_descent(\n",
      "/opt/anaconda3/lib/python3.9/site-packages/sklearn/linear_model/_coordinate_descent.py:530: ConvergenceWarning: Objective did not converge. You might want to increase the number of iterations. Duality gap: 69410.55223781207, tolerance: 46.73613705179283\n",
      "  model = cd_fast.enet_coordinate_descent(\n",
      "/opt/anaconda3/lib/python3.9/site-packages/sklearn/linear_model/_coordinate_descent.py:530: ConvergenceWarning: Objective did not converge. You might want to increase the number of iterations. Duality gap: 266.3832609272795, tolerance: 234.89490907775766\n",
      "  model = cd_fast.enet_coordinate_descent(\n",
      "/opt/anaconda3/lib/python3.9/site-packages/sklearn/linear_model/_coordinate_descent.py:530: ConvergenceWarning: Objective did not converge. You might want to increase the number of iterations. Duality gap: 78611.1934847628, tolerance: 138.8214477968176\n",
      "  model = cd_fast.enet_coordinate_descent(\n",
      "/opt/anaconda3/lib/python3.9/site-packages/sklearn/linear_model/_coordinate_descent.py:530: ConvergenceWarning: Objective did not converge. You might want to increase the number of iterations. Duality gap: 263244.80620328523, tolerance: 341.5488217402467\n",
      "  model = cd_fast.enet_coordinate_descent(\n",
      "/opt/anaconda3/lib/python3.9/site-packages/sklearn/linear_model/_coordinate_descent.py:530: ConvergenceWarning: Objective did not converge. You might want to increase the number of iterations. Duality gap: 235.19308264704887, tolerance: 140.15083965728272\n",
      "  model = cd_fast.enet_coordinate_descent(\n",
      "/opt/anaconda3/lib/python3.9/site-packages/sklearn/linear_model/_coordinate_descent.py:530: ConvergenceWarning: Objective did not converge. You might want to increase the number of iterations. Duality gap: 415517.4284034632, tolerance: 245.13658676311024\n",
      "  model = cd_fast.enet_coordinate_descent(\n",
      "/opt/anaconda3/lib/python3.9/site-packages/sklearn/linear_model/_coordinate_descent.py:530: ConvergenceWarning: Objective did not converge. You might want to increase the number of iterations. Duality gap: 73777.72942120537, tolerance: 45.65720737051792\n",
      "  model = cd_fast.enet_coordinate_descent(\n",
      "/opt/anaconda3/lib/python3.9/site-packages/sklearn/linear_model/_coordinate_descent.py:530: ConvergenceWarning: Objective did not converge. You might want to increase the number of iterations. Duality gap: 571706.2959741025, tolerance: 339.41531085728957\n",
      "  model = cd_fast.enet_coordinate_descent(\n",
      "/opt/anaconda3/lib/python3.9/site-packages/sklearn/linear_model/_coordinate_descent.py:530: ConvergenceWarning: Objective did not converge. You might want to increase the number of iterations. Duality gap: 248439.28463588143, tolerance: 141.46344853121178\n",
      "  model = cd_fast.enet_coordinate_descent(\n",
      "/opt/anaconda3/lib/python3.9/site-packages/sklearn/linear_model/_coordinate_descent.py:530: ConvergenceWarning: Objective did not converge. You might want to increase the number of iterations. Duality gap: 3779.314708424048, tolerance: 43.05349243027889\n",
      "  model = cd_fast.enet_coordinate_descent(\n",
      "/opt/anaconda3/lib/python3.9/site-packages/sklearn/linear_model/_coordinate_descent.py:530: ConvergenceWarning: Objective did not converge. You might want to increase the number of iterations. Duality gap: 406082.3365332897, tolerance: 235.85420238698006\n",
      "  model = cd_fast.enet_coordinate_descent(\n",
      "/opt/anaconda3/lib/python3.9/site-packages/sklearn/linear_model/_coordinate_descent.py:530: ConvergenceWarning: Objective did not converge. You might want to increase the number of iterations. Duality gap: 237408.48159200602, tolerance: 139.34359069767447\n",
      "  model = cd_fast.enet_coordinate_descent(\n",
      "/opt/anaconda3/lib/python3.9/site-packages/sklearn/linear_model/_coordinate_descent.py:530: ConvergenceWarning: Objective did not converge. You might want to increase the number of iterations. Duality gap: 64110.3900155686, tolerance: 42.97689023904384\n",
      "  model = cd_fast.enet_coordinate_descent(\n",
      "/opt/anaconda3/lib/python3.9/site-packages/sklearn/linear_model/_coordinate_descent.py:530: ConvergenceWarning: Objective did not converge. You might want to increase the number of iterations. Duality gap: 401039.4531536241, tolerance: 236.35299840867987\n",
      "  model = cd_fast.enet_coordinate_descent(\n",
      "/opt/anaconda3/lib/python3.9/site-packages/sklearn/linear_model/_coordinate_descent.py:530: ConvergenceWarning: Objective did not converge. You might want to increase the number of iterations. Duality gap: 53.97845451682224, tolerance: 45.86697390438247\n",
      "  model = cd_fast.enet_coordinate_descent(\n",
      "/opt/anaconda3/lib/python3.9/site-packages/sklearn/linear_model/_coordinate_descent.py:530: ConvergenceWarning: Objective did not converge. You might want to increase the number of iterations. Duality gap: 567724.6378151479, tolerance: 333.9494605492812\n",
      "  model = cd_fast.enet_coordinate_descent(\n",
      "/opt/anaconda3/lib/python3.9/site-packages/sklearn/linear_model/_coordinate_descent.py:530: ConvergenceWarning: Objective did not converge. You might want to increase the number of iterations. Duality gap: 254116.9395581853, tolerance: 141.51343017135864\n",
      "  model = cd_fast.enet_coordinate_descent(\n",
      "/opt/anaconda3/lib/python3.9/site-packages/sklearn/linear_model/_coordinate_descent.py:530: ConvergenceWarning: Objective did not converge. You might want to increase the number of iterations. Duality gap: 3327.328844506221, tolerance: 40.068176294820724\n",
      "  model = cd_fast.enet_coordinate_descent(\n",
      "/opt/anaconda3/lib/python3.9/site-packages/sklearn/linear_model/_coordinate_descent.py:530: ConvergenceWarning: Objective did not converge. You might want to increase the number of iterations. Duality gap: 43.96711127909657, tolerance: 43.39568525896415\n",
      "  model = cd_fast.enet_coordinate_descent(\n",
      "/opt/anaconda3/lib/python3.9/site-packages/sklearn/linear_model/_coordinate_descent.py:530: ConvergenceWarning: Objective did not converge. You might want to increase the number of iterations. Duality gap: 363565.28116994305, tolerance: 339.8800702002051\n",
      "  model = cd_fast.enet_coordinate_descent(\n",
      "/opt/anaconda3/lib/python3.9/site-packages/sklearn/linear_model/_coordinate_descent.py:530: ConvergenceWarning: Objective did not converge. You might want to increase the number of iterations. Duality gap: 70178.80376947156, tolerance: 42.080313944223114\n",
      "  model = cd_fast.enet_coordinate_descent(\n",
      "/opt/anaconda3/lib/python3.9/site-packages/sklearn/linear_model/_coordinate_descent.py:530: ConvergenceWarning: Objective did not converge. You might want to increase the number of iterations. Duality gap: 238721.85522415506, tolerance: 142.15868696450423\n",
      "  model = cd_fast.enet_coordinate_descent(\n",
      "/opt/anaconda3/lib/python3.9/site-packages/sklearn/linear_model/_coordinate_descent.py:530: ConvergenceWarning: Objective did not converge. You might want to increase the number of iterations. Duality gap: 205.7365921966848, tolerance: 141.27518433292536\n",
      "  model = cd_fast.enet_coordinate_descent(\n",
      "/opt/anaconda3/lib/python3.9/site-packages/sklearn/linear_model/_coordinate_descent.py:530: ConvergenceWarning: Objective did not converge. You might want to increase the number of iterations. Duality gap: 79096.23720524782, tolerance: 43.72995478087649\n",
      "  model = cd_fast.enet_coordinate_descent(\n",
      "/opt/anaconda3/lib/python3.9/site-packages/sklearn/linear_model/_coordinate_descent.py:530: ConvergenceWarning: Objective did not converge. You might want to increase the number of iterations. Duality gap: 170549.60020052333, tolerance: 140.10820195838429\n",
      "  model = cd_fast.enet_coordinate_descent(\n",
      "/opt/anaconda3/lib/python3.9/site-packages/sklearn/linear_model/_coordinate_descent.py:530: ConvergenceWarning: Objective did not converge. You might want to increase the number of iterations. Duality gap: 73336.95190422323, tolerance: 46.0282015936255\n",
      "  model = cd_fast.enet_coordinate_descent(\n",
      "/opt/anaconda3/lib/python3.9/site-packages/sklearn/linear_model/_coordinate_descent.py:530: ConvergenceWarning: Objective did not converge. You might want to increase the number of iterations. Duality gap: 70939.48434491144, tolerance: 46.03456513944224\n",
      "  model = cd_fast.enet_coordinate_descent(\n",
      "/opt/anaconda3/lib/python3.9/site-packages/sklearn/linear_model/_coordinate_descent.py:530: ConvergenceWarning: Objective did not converge. You might want to increase the number of iterations. Duality gap: 249207.71773301542, tolerance: 143.69185832313346\n",
      "  model = cd_fast.enet_coordinate_descent(\n",
      "/opt/anaconda3/lib/python3.9/site-packages/sklearn/linear_model/_coordinate_descent.py:530: ConvergenceWarning: Objective did not converge. You might want to increase the number of iterations. Duality gap: 255731.01866635933, tolerance: 139.23774155446756\n",
      "  model = cd_fast.enet_coordinate_descent(\n",
      "/opt/anaconda3/lib/python3.9/site-packages/sklearn/linear_model/_coordinate_descent.py:530: ConvergenceWarning: Objective did not converge. You might want to increase the number of iterations. Duality gap: 427410.9542874507, tolerance: 239.27718719710677\n",
      "  model = cd_fast.enet_coordinate_descent(\n",
      "/opt/anaconda3/lib/python3.9/site-packages/sklearn/linear_model/_coordinate_descent.py:530: ConvergenceWarning: Objective did not converge. You might want to increase the number of iterations. Duality gap: 188970.36916938788, tolerance: 146.37271015911872\n",
      "  model = cd_fast.enet_coordinate_descent(\n",
      "/opt/anaconda3/lib/python3.9/site-packages/sklearn/linear_model/_coordinate_descent.py:530: ConvergenceWarning: Objective did not converge. You might want to increase the number of iterations. Duality gap: 72431.90810874291, tolerance: 42.90905577689243\n",
      "  model = cd_fast.enet_coordinate_descent(\n",
      "/opt/anaconda3/lib/python3.9/site-packages/sklearn/linear_model/_coordinate_descent.py:530: ConvergenceWarning: Objective did not converge. You might want to increase the number of iterations. Duality gap: 391510.38405859045, tolerance: 243.2561983363471\n",
      "  model = cd_fast.enet_coordinate_descent(\n",
      "/opt/anaconda3/lib/python3.9/site-packages/sklearn/linear_model/_coordinate_descent.py:530: ConvergenceWarning: Objective did not converge. You might want to increase the number of iterations. Duality gap: 447328.2840496815, tolerance: 342.1661449691993\n",
      "  model = cd_fast.enet_coordinate_descent(\n",
      "/opt/anaconda3/lib/python3.9/site-packages/sklearn/linear_model/_coordinate_descent.py:530: ConvergenceWarning: Objective did not converge. You might want to increase the number of iterations. Duality gap: 241481.25597088775, tolerance: 138.0692925948592\n",
      "  model = cd_fast.enet_coordinate_descent(\n",
      "/opt/anaconda3/lib/python3.9/site-packages/sklearn/linear_model/_coordinate_descent.py:530: ConvergenceWarning: Objective did not converge. You might want to increase the number of iterations. Duality gap: 396922.0662880927, tolerance: 236.26833359855334\n",
      "  model = cd_fast.enet_coordinate_descent(\n",
      "/opt/anaconda3/lib/python3.9/site-packages/sklearn/linear_model/_coordinate_descent.py:530: ConvergenceWarning: Objective did not converge. You might want to increase the number of iterations. Duality gap: 554273.7815808913, tolerance: 333.41407328028725\n",
      "  model = cd_fast.enet_coordinate_descent(\n",
      "/opt/anaconda3/lib/python3.9/site-packages/sklearn/linear_model/_coordinate_descent.py:530: ConvergenceWarning: Objective did not converge. You might want to increase the number of iterations. Duality gap: 74575.83962719045, tolerance: 41.76873147410358\n",
      "  model = cd_fast.enet_coordinate_descent(\n",
      "/opt/anaconda3/lib/python3.9/site-packages/sklearn/linear_model/_coordinate_descent.py:530: ConvergenceWarning: Objective did not converge. You might want to increase the number of iterations. Duality gap: 67841.51510902098, tolerance: 41.51285358565736\n",
      "  model = cd_fast.enet_coordinate_descent(\n",
      "/opt/anaconda3/lib/python3.9/site-packages/sklearn/linear_model/_coordinate_descent.py:530: ConvergenceWarning: Objective did not converge. You might want to increase the number of iterations. Duality gap: 59793.25422075395, tolerance: 41.05916912350599\n",
      "  model = cd_fast.enet_coordinate_descent(\n",
      "/opt/anaconda3/lib/python3.9/site-packages/sklearn/linear_model/_coordinate_descent.py:530: ConvergenceWarning: Objective did not converge. You might want to increase the number of iterations. Duality gap: 392749.4657699246, tolerance: 239.89473251356236\n",
      "  model = cd_fast.enet_coordinate_descent(\n",
      "/opt/anaconda3/lib/python3.9/site-packages/sklearn/linear_model/_coordinate_descent.py:530: ConvergenceWarning: Objective did not converge. You might want to increase the number of iterations. Duality gap: 407377.16128874663, tolerance: 237.66846271247752\n",
      "  model = cd_fast.enet_coordinate_descent(\n",
      "/opt/anaconda3/lib/python3.9/site-packages/sklearn/linear_model/_coordinate_descent.py:530: ConvergenceWarning: Objective did not converge. You might want to increase the number of iterations. Duality gap: 570607.6916816741, tolerance: 337.8951919661196\n",
      "  model = cd_fast.enet_coordinate_descent(\n",
      "/opt/anaconda3/lib/python3.9/site-packages/sklearn/linear_model/_coordinate_descent.py:530: ConvergenceWarning: Objective did not converge. You might want to increase the number of iterations. Duality gap: 80185.54078238433, tolerance: 48.2573109561753\n",
      "  model = cd_fast.enet_coordinate_descent(\n",
      "/opt/anaconda3/lib/python3.9/site-packages/sklearn/linear_model/_coordinate_descent.py:530: ConvergenceWarning: Objective did not converge. You might want to increase the number of iterations. Duality gap: 424561.23061145557, tolerance: 244.46859110307415\n",
      "  model = cd_fast.enet_coordinate_descent(\n",
      "/opt/anaconda3/lib/python3.9/site-packages/sklearn/linear_model/_coordinate_descent.py:530: ConvergenceWarning: Objective did not converge. You might want to increase the number of iterations. Duality gap: 1195.3646109230322, tolerance: 43.46938665338645\n",
      "  model = cd_fast.enet_coordinate_descent(\n",
      "/opt/anaconda3/lib/python3.9/site-packages/sklearn/linear_model/_coordinate_descent.py:530: ConvergenceWarning: Objective did not converge. You might want to increase the number of iterations. Duality gap: 239135.00697959866, tolerance: 138.77540544675642\n",
      "  model = cd_fast.enet_coordinate_descent(\n",
      "/opt/anaconda3/lib/python3.9/site-packages/sklearn/linear_model/_coordinate_descent.py:530: ConvergenceWarning: Objective did not converge. You might want to increase the number of iterations. Duality gap: 71047.90332398834, tolerance: 44.339479880478095\n",
      "  model = cd_fast.enet_coordinate_descent(\n",
      "/opt/anaconda3/lib/python3.9/site-packages/sklearn/linear_model/_coordinate_descent.py:530: ConvergenceWarning: Objective did not converge. You might want to increase the number of iterations. Duality gap: 1475.0975871708943, tolerance: 241.4248495479204\n",
      "  model = cd_fast.enet_coordinate_descent(\n",
      "/opt/anaconda3/lib/python3.9/site-packages/sklearn/linear_model/_coordinate_descent.py:530: ConvergenceWarning: Objective did not converge. You might want to increase the number of iterations. Duality gap: 238972.15608248534, tolerance: 141.6481052631579\n",
      "  model = cd_fast.enet_coordinate_descent(\n",
      "/opt/anaconda3/lib/python3.9/site-packages/sklearn/linear_model/_coordinate_descent.py:530: ConvergenceWarning: Objective did not converge. You might want to increase the number of iterations. Duality gap: 396021.7969406151, tolerance: 242.31268195298375\n",
      "  model = cd_fast.enet_coordinate_descent(\n",
      "/opt/anaconda3/lib/python3.9/site-packages/sklearn/linear_model/_coordinate_descent.py:530: ConvergenceWarning: Objective did not converge. You might want to increase the number of iterations. Duality gap: 563630.8585772384, tolerance: 342.029932212526\n",
      "  model = cd_fast.enet_coordinate_descent(\n",
      "/opt/anaconda3/lib/python3.9/site-packages/sklearn/linear_model/_coordinate_descent.py:530: ConvergenceWarning: Objective did not converge. You might want to increase the number of iterations. Duality gap: 62868.49974565649, tolerance: 43.394642430278886\n",
      "  model = cd_fast.enet_coordinate_descent(\n",
      "/opt/anaconda3/lib/python3.9/site-packages/sklearn/linear_model/_coordinate_descent.py:530: ConvergenceWarning: Objective did not converge. You might want to increase the number of iterations. Duality gap: 330651.28567089775, tolerance: 340.26059496919936\n",
      "  model = cd_fast.enet_coordinate_descent(\n",
      "/opt/anaconda3/lib/python3.9/site-packages/sklearn/linear_model/_coordinate_descent.py:530: ConvergenceWarning: Objective did not converge. You might want to increase the number of iterations. Duality gap: 67077.2979884273, tolerance: 40.46721135458168\n",
      "  model = cd_fast.enet_coordinate_descent(\n",
      "/opt/anaconda3/lib/python3.9/site-packages/sklearn/linear_model/_coordinate_descent.py:530: ConvergenceWarning: Objective did not converge. You might want to increase the number of iterations. Duality gap: 72307.69806282413, tolerance: 44.192333266932266\n",
      "  model = cd_fast.enet_coordinate_descent(\n",
      "/opt/anaconda3/lib/python3.9/site-packages/sklearn/linear_model/_coordinate_descent.py:530: ConvergenceWarning: Objective did not converge. You might want to increase the number of iterations. Duality gap: 264509.7901055371, tolerance: 144.6524485312118\n",
      "  model = cd_fast.enet_coordinate_descent(\n",
      "/opt/anaconda3/lib/python3.9/site-packages/sklearn/linear_model/_coordinate_descent.py:530: ConvergenceWarning: Objective did not converge. You might want to increase the number of iterations. Duality gap: 1211.1696428546275, tolerance: 39.91348844621514\n",
      "  model = cd_fast.enet_coordinate_descent(\n",
      "/opt/anaconda3/lib/python3.9/site-packages/sklearn/linear_model/_coordinate_descent.py:530: ConvergenceWarning: Objective did not converge. You might want to increase the number of iterations. Duality gap: 389889.46733779873, tolerance: 239.45758169981917\n",
      "  model = cd_fast.enet_coordinate_descent(\n",
      "/opt/anaconda3/lib/python3.9/site-packages/sklearn/linear_model/_coordinate_descent.py:530: ConvergenceWarning: Objective did not converge. You might want to increase the number of iterations. Duality gap: 587246.7320889424, tolerance: 339.2379435061601\n",
      "  model = cd_fast.enet_coordinate_descent(\n",
      "/opt/anaconda3/lib/python3.9/site-packages/sklearn/linear_model/_coordinate_descent.py:530: ConvergenceWarning: Objective did not converge. You might want to increase the number of iterations. Duality gap: 184362.13364341453, tolerance: 144.33144779681766\n",
      "  model = cd_fast.enet_coordinate_descent(\n",
      "/opt/anaconda3/lib/python3.9/site-packages/sklearn/linear_model/_coordinate_descent.py:530: ConvergenceWarning: Objective did not converge. You might want to increase the number of iterations. Duality gap: 69425.1041660848, tolerance: 40.09590996015937\n",
      "  model = cd_fast.enet_coordinate_descent(\n",
      "/opt/anaconda3/lib/python3.9/site-packages/sklearn/linear_model/_coordinate_descent.py:530: ConvergenceWarning: Objective did not converge. You might want to increase the number of iterations. Duality gap: 68543.89563458951, tolerance: 45.732283864541834\n",
      "  model = cd_fast.enet_coordinate_descent(\n",
      "/opt/anaconda3/lib/python3.9/site-packages/sklearn/linear_model/_coordinate_descent.py:530: ConvergenceWarning: Objective did not converge. You might want to increase the number of iterations. Duality gap: 397634.7221870426, tolerance: 238.67619363471965\n",
      "  model = cd_fast.enet_coordinate_descent(\n",
      "/opt/anaconda3/lib/python3.9/site-packages/sklearn/linear_model/_coordinate_descent.py:530: ConvergenceWarning: Objective did not converge. You might want to increase the number of iterations. Duality gap: 566154.3377693424, tolerance: 332.5520007186862\n",
      "  model = cd_fast.enet_coordinate_descent(\n",
      "/opt/anaconda3/lib/python3.9/site-packages/sklearn/linear_model/_coordinate_descent.py:530: ConvergenceWarning: Objective did not converge. You might want to increase the number of iterations. Duality gap: 239256.93653659304, tolerance: 148.53815862913095\n",
      "  model = cd_fast.enet_coordinate_descent(\n",
      "/opt/anaconda3/lib/python3.9/site-packages/sklearn/linear_model/_coordinate_descent.py:530: ConvergenceWarning: Objective did not converge. You might want to increase the number of iterations. Duality gap: 867.5289300655713, tolerance: 242.5187952983724\n",
      "  model = cd_fast.enet_coordinate_descent(\n",
      "/opt/anaconda3/lib/python3.9/site-packages/sklearn/linear_model/_coordinate_descent.py:530: ConvergenceWarning: Objective did not converge. You might want to increase the number of iterations. Duality gap: 405060.18871584116, tolerance: 242.19600050632903\n",
      "  model = cd_fast.enet_coordinate_descent(\n",
      "/opt/anaconda3/lib/python3.9/site-packages/sklearn/linear_model/_coordinate_descent.py:530: ConvergenceWarning: Objective did not converge. You might want to increase the number of iterations. Duality gap: 241.66593585925875, tolerance: 142.33780177478576\n",
      "  model = cd_fast.enet_coordinate_descent(\n",
      "/opt/anaconda3/lib/python3.9/site-packages/sklearn/linear_model/_coordinate_descent.py:530: ConvergenceWarning: Objective did not converge. You might want to increase the number of iterations. Duality gap: 550047.2512510574, tolerance: 336.69500243839855\n",
      "  model = cd_fast.enet_coordinate_descent(\n",
      "/opt/anaconda3/lib/python3.9/site-packages/sklearn/linear_model/_coordinate_descent.py:530: ConvergenceWarning: Objective did not converge. You might want to increase the number of iterations. Duality gap: 69635.24592830724, tolerance: 43.48518505976096\n",
      "  model = cd_fast.enet_coordinate_descent(\n",
      "/opt/anaconda3/lib/python3.9/site-packages/sklearn/linear_model/_coordinate_descent.py:530: ConvergenceWarning: Objective did not converge. You might want to increase the number of iterations. Duality gap: 64298.894876009195, tolerance: 43.117386653386454\n",
      "  model = cd_fast.enet_coordinate_descent(\n",
      "/opt/anaconda3/lib/python3.9/site-packages/sklearn/linear_model/_coordinate_descent.py:530: ConvergenceWarning: Objective did not converge. You might want to increase the number of iterations. Duality gap: 227969.40310930487, tolerance: 141.11670012239904\n",
      "  model = cd_fast.enet_coordinate_descent(\n",
      "/opt/anaconda3/lib/python3.9/site-packages/sklearn/linear_model/_coordinate_descent.py:530: ConvergenceWarning: Objective did not converge. You might want to increase the number of iterations. Duality gap: 82929.59793431024, tolerance: 43.97954183266933\n",
      "  model = cd_fast.enet_coordinate_descent(\n",
      "/opt/anaconda3/lib/python3.9/site-packages/sklearn/linear_model/_coordinate_descent.py:530: ConvergenceWarning: Objective did not converge. You might want to increase the number of iterations. Duality gap: 201930.00034494704, tolerance: 141.05934467564262\n",
      "  model = cd_fast.enet_coordinate_descent(\n",
      "/opt/anaconda3/lib/python3.9/site-packages/sklearn/linear_model/_coordinate_descent.py:530: ConvergenceWarning: Objective did not converge. You might want to increase the number of iterations. Duality gap: 67446.05253558687, tolerance: 46.25551952191236\n",
      "  model = cd_fast.enet_coordinate_descent(\n",
      "/opt/anaconda3/lib/python3.9/site-packages/sklearn/linear_model/_coordinate_descent.py:530: ConvergenceWarning: Objective did not converge. You might want to increase the number of iterations. Duality gap: 4837.158071412268, tolerance: 42.54753725099602\n",
      "  model = cd_fast.enet_coordinate_descent(\n",
      "/opt/anaconda3/lib/python3.9/site-packages/sklearn/linear_model/_coordinate_descent.py:530: ConvergenceWarning: Objective did not converge. You might want to increase the number of iterations. Duality gap: 21082.641799779958, tolerance: 236.0697370705244\n",
      "  model = cd_fast.enet_coordinate_descent(\n",
      "/opt/anaconda3/lib/python3.9/site-packages/sklearn/linear_model/_coordinate_descent.py:530: ConvergenceWarning: Objective did not converge. You might want to increase the number of iterations. Duality gap: 75495.57301443268, tolerance: 44.0132342629482\n",
      "  model = cd_fast.enet_coordinate_descent(\n",
      "/opt/anaconda3/lib/python3.9/site-packages/sklearn/linear_model/_coordinate_descent.py:530: ConvergenceWarning: Objective did not converge. You might want to increase the number of iterations. Duality gap: 237426.3858313747, tolerance: 140.68986762545904\n",
      "  model = cd_fast.enet_coordinate_descent(\n",
      "/opt/anaconda3/lib/python3.9/site-packages/sklearn/linear_model/_coordinate_descent.py:530: ConvergenceWarning: Objective did not converge. You might want to increase the number of iterations. Duality gap: 83323.5912962887, tolerance: 45.14565278884463\n",
      "  model = cd_fast.enet_coordinate_descent(\n",
      "/opt/anaconda3/lib/python3.9/site-packages/sklearn/linear_model/_coordinate_descent.py:530: ConvergenceWarning: Objective did not converge. You might want to increase the number of iterations. Duality gap: 401764.9237102172, tolerance: 239.2105437251356\n",
      "  model = cd_fast.enet_coordinate_descent(\n",
      "/opt/anaconda3/lib/python3.9/site-packages/sklearn/linear_model/_coordinate_descent.py:530: ConvergenceWarning: Objective did not converge. You might want to increase the number of iterations. Duality gap: 240778.13338289945, tolerance: 139.94781817625457\n",
      "  model = cd_fast.enet_coordinate_descent(\n",
      "/opt/anaconda3/lib/python3.9/site-packages/sklearn/linear_model/_coordinate_descent.py:530: ConvergenceWarning: Objective did not converge. You might want to increase the number of iterations. Duality gap: 1633.6738421951886, tolerance: 341.36175225872734\n",
      "  model = cd_fast.enet_coordinate_descent(\n",
      "/opt/anaconda3/lib/python3.9/site-packages/sklearn/linear_model/_coordinate_descent.py:530: ConvergenceWarning: Objective did not converge. You might want to increase the number of iterations. Duality gap: 68334.85577799194, tolerance: 42.20812749003985\n",
      "  model = cd_fast.enet_coordinate_descent(\n",
      "/opt/anaconda3/lib/python3.9/site-packages/sklearn/linear_model/_coordinate_descent.py:530: ConvergenceWarning: Objective did not converge. You might want to increase the number of iterations. Duality gap: 224993.3804752607, tolerance: 138.78382968176257\n",
      "  model = cd_fast.enet_coordinate_descent(\n",
      "/opt/anaconda3/lib/python3.9/site-packages/sklearn/linear_model/_coordinate_descent.py:530: ConvergenceWarning: Objective did not converge. You might want to increase the number of iterations. Duality gap: 387377.9313226641, tolerance: 234.8363147920433\n",
      "  model = cd_fast.enet_coordinate_descent(\n",
      "/opt/anaconda3/lib/python3.9/site-packages/sklearn/linear_model/_coordinate_descent.py:530: ConvergenceWarning: Objective did not converge. You might want to increase the number of iterations. Duality gap: 481456.1141633363, tolerance: 337.0423498973307\n",
      "  model = cd_fast.enet_coordinate_descent(\n",
      "/opt/anaconda3/lib/python3.9/site-packages/sklearn/linear_model/_coordinate_descent.py:530: ConvergenceWarning: Objective did not converge. You might want to increase the number of iterations. Duality gap: 68108.37516713093, tolerance: 39.41253247011952\n",
      "  model = cd_fast.enet_coordinate_descent(\n",
      "/opt/anaconda3/lib/python3.9/site-packages/sklearn/linear_model/_coordinate_descent.py:530: ConvergenceWarning: Objective did not converge. You might want to increase the number of iterations. Duality gap: 71953.34634162624, tolerance: 41.45933167330677\n",
      "  model = cd_fast.enet_coordinate_descent(\n",
      "/opt/anaconda3/lib/python3.9/site-packages/sklearn/linear_model/_coordinate_descent.py:530: ConvergenceWarning: Objective did not converge. You might want to increase the number of iterations. Duality gap: 746684.9605246533, tolerance: 433.7717515314237\n",
      "  model = cd_fast.enet_coordinate_descent(\n",
      "/opt/anaconda3/lib/python3.9/site-packages/sklearn/linear_model/_coordinate_descent.py:530: ConvergenceWarning: Objective did not converge. You might want to increase the number of iterations. Duality gap: 159453.6015369608, tolerance: 136.19141689106485\n",
      "  model = cd_fast.enet_coordinate_descent(\n",
      "/opt/anaconda3/lib/python3.9/site-packages/sklearn/linear_model/_coordinate_descent.py:530: ConvergenceWarning: Objective did not converge. You might want to increase the number of iterations. Duality gap: 69691.18238299887, tolerance: 43.98934442231076\n",
      "  model = cd_fast.enet_coordinate_descent(\n",
      "/opt/anaconda3/lib/python3.9/site-packages/sklearn/linear_model/_coordinate_descent.py:530: ConvergenceWarning: Objective did not converge. You might want to increase the number of iterations. Duality gap: 76039.65582722532, tolerance: 48.603886852589646\n",
      "  model = cd_fast.enet_coordinate_descent(\n",
      "/opt/anaconda3/lib/python3.9/site-packages/sklearn/linear_model/_coordinate_descent.py:530: ConvergenceWarning: Objective did not converge. You might want to increase the number of iterations. Duality gap: 239041.49729612717, tolerance: 148.10325948592416\n",
      "  model = cd_fast.enet_coordinate_descent(\n",
      "/opt/anaconda3/lib/python3.9/site-packages/sklearn/linear_model/_coordinate_descent.py:530: ConvergenceWarning: Objective did not converge. You might want to increase the number of iterations. Duality gap: 12077.922651583795, tolerance: 243.7878214828209\n",
      "  model = cd_fast.enet_coordinate_descent(\n",
      "/opt/anaconda3/lib/python3.9/site-packages/sklearn/linear_model/_coordinate_descent.py:530: ConvergenceWarning: Objective did not converge. You might want to increase the number of iterations. Duality gap: 5895.1494616690325, tolerance: 344.7589194815196\n",
      "  model = cd_fast.enet_coordinate_descent(\n",
      "/opt/anaconda3/lib/python3.9/site-packages/sklearn/linear_model/_coordinate_descent.py:530: ConvergenceWarning: Objective did not converge. You might want to increase the number of iterations. Duality gap: 28877.19008251198, tolerance: 238.61580455696202\n",
      "  model = cd_fast.enet_coordinate_descent(\n",
      "/opt/anaconda3/lib/python3.9/site-packages/sklearn/linear_model/_coordinate_descent.py:530: ConvergenceWarning: Objective did not converge. You might want to increase the number of iterations. Duality gap: 15806.58355317975, tolerance: 337.30756262833626\n",
      "  model = cd_fast.enet_coordinate_descent(\n",
      "/opt/anaconda3/lib/python3.9/site-packages/sklearn/linear_model/_coordinate_descent.py:530: ConvergenceWarning: Objective did not converge. You might want to increase the number of iterations. Duality gap: 81070.93033496206, tolerance: 45.12254741035857\n",
      "  model = cd_fast.enet_coordinate_descent(\n",
      "/opt/anaconda3/lib/python3.9/site-packages/sklearn/linear_model/_coordinate_descent.py:530: ConvergenceWarning: Objective did not converge. You might want to increase the number of iterations. Duality gap: 742953.138785427, tolerance: 436.09551366348455\n",
      "  model = cd_fast.enet_coordinate_descent(\n",
      "/opt/anaconda3/lib/python3.9/site-packages/sklearn/linear_model/_coordinate_descent.py:530: ConvergenceWarning: Objective did not converge. You might want to increase the number of iterations. Duality gap: 73985.40935269305, tolerance: 43.32525278884462\n",
      "  model = cd_fast.enet_coordinate_descent(\n",
      "/opt/anaconda3/lib/python3.9/site-packages/sklearn/linear_model/_coordinate_descent.py:530: ConvergenceWarning: Objective did not converge. You might want to increase the number of iterations. Duality gap: 246518.78436488606, tolerance: 142.46080226438193\n",
      "  model = cd_fast.enet_coordinate_descent(\n",
      "/opt/anaconda3/lib/python3.9/site-packages/sklearn/linear_model/_coordinate_descent.py:530: ConvergenceWarning: Objective did not converge. You might want to increase the number of iterations. Duality gap: 244624.76894473308, tolerance: 139.31979608323138\n",
      "  model = cd_fast.enet_coordinate_descent(\n",
      "/opt/anaconda3/lib/python3.9/site-packages/sklearn/linear_model/_coordinate_descent.py:530: ConvergenceWarning: Objective did not converge. You might want to increase the number of iterations. Duality gap: 423328.0006568994, tolerance: 237.79808122965645\n",
      "  model = cd_fast.enet_coordinate_descent(\n",
      "/opt/anaconda3/lib/python3.9/site-packages/sklearn/linear_model/_coordinate_descent.py:530: ConvergenceWarning: Objective did not converge. You might want to increase the number of iterations. Duality gap: 28642.46241613524, tolerance: 142.11120544675643\n",
      "  model = cd_fast.enet_coordinate_descent(\n",
      "/opt/anaconda3/lib/python3.9/site-packages/sklearn/linear_model/_coordinate_descent.py:530: ConvergenceWarning: Objective did not converge. You might want to increase the number of iterations. Duality gap: 77890.48058217573, tolerance: 46.86189103585659\n",
      "  model = cd_fast.enet_coordinate_descent(\n",
      "/opt/anaconda3/lib/python3.9/site-packages/sklearn/linear_model/_coordinate_descent.py:530: ConvergenceWarning: Objective did not converge. You might want to increase the number of iterations. Duality gap: 52166.208061334095, tolerance: 245.2082867992767\n",
      "  model = cd_fast.enet_coordinate_descent(\n",
      "/opt/anaconda3/lib/python3.9/site-packages/sklearn/linear_model/_coordinate_descent.py:530: ConvergenceWarning: Objective did not converge. You might want to increase the number of iterations. Duality gap: 4143.634270931594, tolerance: 343.84008970739245\n",
      "  model = cd_fast.enet_coordinate_descent(\n",
      "/opt/anaconda3/lib/python3.9/site-packages/sklearn/linear_model/_coordinate_descent.py:530: ConvergenceWarning: Objective did not converge. You might want to increase the number of iterations. Duality gap: 79156.42701075479, tolerance: 47.50377071713148\n",
      "  model = cd_fast.enet_coordinate_descent(\n",
      "/opt/anaconda3/lib/python3.9/site-packages/sklearn/linear_model/_coordinate_descent.py:530: ConvergenceWarning: Objective did not converge. You might want to increase the number of iterations. Duality gap: 239670.25786766692, tolerance: 147.13533200734398\n",
      "  model = cd_fast.enet_coordinate_descent(\n",
      "/opt/anaconda3/lib/python3.9/site-packages/sklearn/linear_model/_coordinate_descent.py:530: ConvergenceWarning: Objective did not converge. You might want to increase the number of iterations. Duality gap: 5662.39427304687, tolerance: 237.61600050632933\n",
      "  model = cd_fast.enet_coordinate_descent(\n",
      "/opt/anaconda3/lib/python3.9/site-packages/sklearn/linear_model/_coordinate_descent.py:530: ConvergenceWarning: Objective did not converge. You might want to increase the number of iterations. Duality gap: 60730.06239946867, tolerance: 41.20587729083665\n",
      "  model = cd_fast.enet_coordinate_descent(\n",
      "/opt/anaconda3/lib/python3.9/site-packages/sklearn/linear_model/_coordinate_descent.py:530: ConvergenceWarning: Objective did not converge. You might want to increase the number of iterations. Duality gap: 81649.40956203557, tolerance: 44.92646394422311\n",
      "  model = cd_fast.enet_coordinate_descent(\n",
      "/opt/anaconda3/lib/python3.9/site-packages/sklearn/linear_model/_coordinate_descent.py:530: ConvergenceWarning: Objective did not converge. You might want to increase the number of iterations. Duality gap: 265498.6325159537, tolerance: 141.45534204406366\n",
      "  model = cd_fast.enet_coordinate_descent(\n",
      "/opt/anaconda3/lib/python3.9/site-packages/sklearn/linear_model/_coordinate_descent.py:530: ConvergenceWarning: Objective did not converge. You might want to increase the number of iterations. Duality gap: 77196.7654479446, tolerance: 44.04087031872509\n",
      "  model = cd_fast.enet_coordinate_descent(\n",
      "/opt/anaconda3/lib/python3.9/site-packages/sklearn/linear_model/_coordinate_descent.py:530: ConvergenceWarning: Objective did not converge. You might want to increase the number of iterations. Duality gap: 581281.8614804168, tolerance: 338.9458322125259\n",
      "  model = cd_fast.enet_coordinate_descent(\n",
      "/opt/anaconda3/lib/python3.9/site-packages/sklearn/linear_model/_coordinate_descent.py:530: ConvergenceWarning: Objective did not converge. You might want to increase the number of iterations. Duality gap: 70261.49996387662, tolerance: 42.68090119521913\n",
      "  model = cd_fast.enet_coordinate_descent(\n",
      "/opt/anaconda3/lib/python3.9/site-packages/sklearn/linear_model/_coordinate_descent.py:530: ConvergenceWarning: Objective did not converge. You might want to increase the number of iterations. Duality gap: 73906.05854299362, tolerance: 47.96619302788846\n",
      "  model = cd_fast.enet_coordinate_descent(\n",
      "/opt/anaconda3/lib/python3.9/site-packages/sklearn/linear_model/_coordinate_descent.py:530: ConvergenceWarning: Objective did not converge. You might want to increase the number of iterations. Duality gap: 148196.81778158888, tolerance: 148.08665440636483\n",
      "  model = cd_fast.enet_coordinate_descent(\n",
      "/opt/anaconda3/lib/python3.9/site-packages/sklearn/linear_model/_coordinate_descent.py:530: ConvergenceWarning: Objective did not converge. You might want to increase the number of iterations. Duality gap: 1161.8244291725568, tolerance: 241.68961359855342\n",
      "  model = cd_fast.enet_coordinate_descent(\n"
     ]
    },
    {
     "data": {
      "text/plain": [
       "<module 'matplotlib.pyplot' from '/opt/anaconda3/lib/python3.9/site-packages/matplotlib/pyplot.py'>"
      ]
     },
     "execution_count": 52,
     "metadata": {},
     "output_type": "execute_result"
    }
   ],
   "source": [
    "from sklearn import linear_model\n",
    "estimator = linear_model.Lasso(alpha=0.1)\n",
    "\n",
    "fig, axes = plt.subplots(3, 1, figsize=(10, 15))\n",
    "\n",
    "# X, y = load_digits(return_X_y=True)\n",
    "\n",
    "title = \"Learning Curves (Random Forest Regressor)\"\n",
    "# Cross validation with 100 iterations to get smoother mean test and train\n",
    "# score curves, each time with 20% data randomly selected as a validation set.\n",
    "cv = ShuffleSplit(n_splits=100, test_size=0.2, random_state=0)\n",
    "\n",
    "# estimator = RandomForestRegressor()\n",
    "\n",
    "plot_learning_curve(\n",
    "    estimator, title, X_train, y_train, axes=axes[:], ylim=(0.7, 1.01), cv=cv, n_jobs=4\n",
    ")"
   ]
  },
  {
   "cell_type": "code",
   "execution_count": 53,
   "id": "4dc90e48-2d5b-419d-b455-81f92e17115f",
   "metadata": {},
   "outputs": [
    {
     "ename": "IndexError",
     "evalue": "too many indices for array: array is 1-dimensional, but 2 were indexed",
     "output_type": "error",
     "traceback": [
      "\u001b[0;31m---------------------------------------------------------------------------\u001b[0m",
      "\u001b[0;31mIndexError\u001b[0m                                Traceback (most recent call last)",
      "\u001b[0;32m/var/folders/_s/mn_1d9wj3ws1vk93hjrqfv3r0000gn/T/ipykernel_1784/2148807630.py\u001b[0m in \u001b[0;36m<module>\u001b[0;34m\u001b[0m\n\u001b[1;32m      4\u001b[0m \u001b[0mestimator\u001b[0m \u001b[0;34m=\u001b[0m \u001b[0mSVC\u001b[0m\u001b[0;34m(\u001b[0m\u001b[0mgamma\u001b[0m\u001b[0;34m=\u001b[0m\u001b[0;36m0.001\u001b[0m\u001b[0;34m)\u001b[0m\u001b[0;34m\u001b[0m\u001b[0;34m\u001b[0m\u001b[0m\n\u001b[1;32m      5\u001b[0m plot_learning_curve(\n\u001b[0;32m----> 6\u001b[0;31m     \u001b[0mestimator\u001b[0m\u001b[0;34m,\u001b[0m \u001b[0mtitle\u001b[0m\u001b[0;34m,\u001b[0m \u001b[0mX_train\u001b[0m\u001b[0;34m,\u001b[0m \u001b[0my_train\u001b[0m\u001b[0;34m,\u001b[0m \u001b[0maxes\u001b[0m\u001b[0;34m=\u001b[0m\u001b[0maxes\u001b[0m\u001b[0;34m[\u001b[0m\u001b[0;34m:\u001b[0m\u001b[0;34m,\u001b[0m \u001b[0;36m1\u001b[0m\u001b[0;34m]\u001b[0m\u001b[0;34m,\u001b[0m \u001b[0mylim\u001b[0m\u001b[0;34m=\u001b[0m\u001b[0;34m(\u001b[0m\u001b[0;36m0.7\u001b[0m\u001b[0;34m,\u001b[0m \u001b[0;36m1.01\u001b[0m\u001b[0;34m)\u001b[0m\u001b[0;34m,\u001b[0m \u001b[0mcv\u001b[0m\u001b[0;34m=\u001b[0m\u001b[0mcv\u001b[0m\u001b[0;34m,\u001b[0m \u001b[0mn_jobs\u001b[0m\u001b[0;34m=\u001b[0m\u001b[0;36m4\u001b[0m\u001b[0;34m\u001b[0m\u001b[0;34m\u001b[0m\u001b[0m\n\u001b[0m\u001b[1;32m      7\u001b[0m )\n\u001b[1;32m      8\u001b[0m \u001b[0;34m\u001b[0m\u001b[0m\n",
      "\u001b[0;31mIndexError\u001b[0m: too many indices for array: array is 1-dimensional, but 2 were indexed"
     ]
    }
   ],
   "source": [
    "title = r\"Learning Curves (SVM, RBF kernel, $\\gamma=0.001$)\"\n",
    "# SVC is more expensive so we do a lower number of CV iterations:\n",
    "cv = ShuffleSplit(n_splits=10, test_size=0.2, random_state=0)\n",
    "estimator = SVC(gamma=0.001)\n",
    "plot_learning_curve(\n",
    "    estimator, title, X_train, y_train, axes=axes[:, 1], ylim=(0.7, 1.01), cv=cv, n_jobs=4\n",
    ")\n",
    "\n",
    "plt.show()"
   ]
  },
  {
   "cell_type": "code",
   "execution_count": 54,
   "id": "433c0f0d-9997-4654-b53d-1d0c5572e80e",
   "metadata": {},
   "outputs": [],
   "source": [
    "X = X_train.values\n",
    "y = y_train.values"
   ]
  },
  {
   "cell_type": "code",
   "execution_count": 55,
   "id": "ff54f23e-0deb-4e7a-a35b-15c3ebc05f2d",
   "metadata": {},
   "outputs": [
    {
     "name": "stdout",
     "output_type": "stream",
     "text": [
      "(6285, 91)\n",
      "(2694, 91)\n",
      "(6285, 1)\n",
      "(2694, 1)\n"
     ]
    }
   ],
   "source": [
    "\"\"\"\n",
    "Benchmark\n",
    "\"\"\"\n",
    "\n",
    "df_transformed.drop(columns=['sqrt_Longitude', 'log_Longitude', 'Score'], inplace=True)\n",
    "\n",
    "# Replace the inf and -inf with nan (required for later imputation)\n",
    "df_transformed.replace({np.inf: np.nan, -np.inf: np.nan}, inplace=True)\n",
    "\n",
    "df_transformed.interpolate(inplace=True)\n",
    "df_transformed.bfill(inplace=True)\n",
    "df_transformed.ffill(inplace=True)\n",
    "\n",
    "X_train, X_test, y_train, y_test = train_test_split(\n",
    "    df_transformed, targets, test_size = 0.3, random_state = 42)\n",
    "\n",
    "print(X_train.shape)\n",
    "print(X_test.shape)\n",
    "print(y_train.shape)\n",
    "print(y_test.shape)"
   ]
  },
  {
   "cell_type": "code",
   "execution_count": 56,
   "id": "3697d791-db90-43d7-a1b1-ac346ffba26e",
   "metadata": {},
   "outputs": [
    {
     "name": "stderr",
     "output_type": "stream",
     "text": [
      "/var/folders/_s/mn_1d9wj3ws1vk93hjrqfv3r0000gn/T/ipykernel_1784/3943944304.py:2: DataConversionWarning: A column-vector y was passed when a 1d array was expected. Please change the shape of y to (n_samples,), for example using ravel().\n",
      "  model.fit(X_train, y_train)\n"
     ]
    },
    {
     "data": {
      "text/plain": [
       "RandomForestRegressor()"
      ]
     },
     "execution_count": 56,
     "metadata": {},
     "output_type": "execute_result"
    }
   ],
   "source": [
    "model = RandomForestRegressor()\n",
    "model.fit(X_train, y_train)"
   ]
  },
  {
   "cell_type": "code",
   "execution_count": 57,
   "id": "47528558-ecbb-40ec-8c7b-f283928d67aa",
   "metadata": {},
   "outputs": [
    {
     "data": {
      "text/plain": [
       "array([74.  , 30.41, 45.68, ..., 65.9 , 82.45, 77.14])"
      ]
     },
     "execution_count": 57,
     "metadata": {},
     "output_type": "execute_result"
    }
   ],
   "source": [
    "y_hat_two = model.predict(X_test)\n",
    "y_hat_two"
   ]
  },
  {
   "cell_type": "code",
   "execution_count": 58,
   "id": "d3273f9b-7f05-4e67-9a5b-187704657236",
   "metadata": {},
   "outputs": [
    {
     "name": "stdout",
     "output_type": "stream",
     "text": [
      "Baseline Performance on the test set: MAE = 8.5464\n"
     ]
    }
   ],
   "source": [
    "mae = mean_absolute_error(y_test, y_hat_two)\n",
    "print(\"Baseline Performance on the test set: MAE = %0.4f\" % mae)"
   ]
  },
  {
   "cell_type": "code",
   "execution_count": 59,
   "id": "41bf7622-e654-47b2-b3ec-b21ddd82d72c",
   "metadata": {},
   "outputs": [
    {
     "data": {
      "text/plain": [
       "<matplotlib.legend.Legend at 0x7fc2cffb3f40>"
      ]
     },
     "execution_count": 59,
     "metadata": {},
     "output_type": "execute_result"
    }
   ],
   "source": [
    "plt.plot(y_test.values.reshape(-1), label='Actual')\n",
    "plt.plot(y_hat_two, label='Prediction')\n",
    "plt.legend(loc='best')"
   ]
  },
  {
   "cell_type": "code",
   "execution_count": 60,
   "id": "dcc09140-287f-4217-9084-5e82b0f29df2",
   "metadata": {},
   "outputs": [
    {
     "data": {
      "text/plain": [
       "Text(0, 0.5, 'Prediction')"
      ]
     },
     "execution_count": 60,
     "metadata": {},
     "output_type": "execute_result"
    }
   ],
   "source": [
    "plt.plot(y_test.values.reshape(-1), y_hat_two, 'bo')\n",
    "plt.xlabel(\"Actual\")\n",
    "plt.ylabel(\"Prediction\")"
   ]
  },
  {
   "cell_type": "code",
   "execution_count": null,
   "id": "c0882838-3a10-40ed-bd20-7dd8226b4dc4",
   "metadata": {},
   "outputs": [],
   "source": []
  }
 ],
 "metadata": {
  "kernelspec": {
   "display_name": "Python 3 (ipykernel)",
   "language": "python",
   "name": "python3"
  },
  "language_info": {
   "codemirror_mode": {
    "name": "ipython",
    "version": 3
   },
   "file_extension": ".py",
   "mimetype": "text/x-python",
   "name": "python",
   "nbconvert_exporter": "python",
   "pygments_lexer": "ipython3",
   "version": "3.9.7"
  }
 },
 "nbformat": 4,
 "nbformat_minor": 5
}
