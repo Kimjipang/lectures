{
 "cells": [
  {
   "cell_type": "code",
   "execution_count": 1,
   "id": "ab792a1d-ffe9-41d8-a784-46ceadfaff93",
   "metadata": {},
   "outputs": [],
   "source": [
    "import numpy as np"
   ]
  },
  {
   "cell_type": "code",
   "execution_count": 5,
   "id": "7fe1e57d-1954-458c-9685-c1cf04929da7",
   "metadata": {},
   "outputs": [
    {
     "name": "stdout",
     "output_type": "stream",
     "text": [
      "[4 3 2 8 8]\n"
     ]
    }
   ],
   "source": [
    "\"\"\"\n",
    "Computing reciprocals in loops\n",
    "\"\"\"\n",
    "\n",
    "def compute_reciprocals(values):\n",
    "    output = np.empty(len(values))\n",
    "    for i in range(len(values)):\n",
    "        output[i] = 1.0 / values[i]\n",
    "        \n",
    "    return output\n",
    "\n",
    "values = np.random.randint(1, 10, size = 5)\n",
    "print(values)"
   ]
  },
  {
   "cell_type": "code",
   "execution_count": 16,
   "id": "0edb1fbf-c1eb-44bb-a599-c83701887635",
   "metadata": {},
   "outputs": [
    {
     "name": "stdout",
     "output_type": "stream",
     "text": [
      "1.87 s ± 6.41 ms per loop (mean ± std. dev. of 7 runs, 1 loop each)\n"
     ]
    }
   ],
   "source": [
    "\"\"\"\n",
    "Comparison : Loop vs ufuncs(vectorized)\n",
    "\"\"\"\n",
    "\n",
    "big_array = np.random.randint(1, 100, size = 1000000)\n",
    "\n",
    "# %timeit은 쥬피터에서 제공해주는 기능 /// 실행시간 얼마나 걸리는지 알려줌\n",
    "%timeit compute_reciprocals(big_array)"
   ]
  },
  {
   "cell_type": "code",
   "execution_count": 17,
   "id": "9c1c488e-9430-4aeb-9ff9-671d86c45536",
   "metadata": {},
   "outputs": [
    {
     "name": "stdout",
     "output_type": "stream",
     "text": [
      "2.72 ms ± 87.6 µs per loop (mean ± std. dev. of 7 runs, 100 loops each)\n"
     ]
    }
   ],
   "source": [
    "%timeit 1 / big_array"
   ]
  },
  {
   "cell_type": "code",
   "execution_count": 12,
   "id": "9a189f1f-c138-45cc-9962-67db0ee9d078",
   "metadata": {},
   "outputs": [
    {
     "name": "stdout",
     "output_type": "stream",
     "text": [
      "[5 8 9 5 0] [0 1 7 6 9]\n",
      "[ 3  6  7  3 -2] [0 1 7 6 9]\n",
      "[ 3  7 14  9  7]\n",
      "[[2 4 5 2 4]\n",
      " [2 4 7 7 9]\n",
      " [1 7 0 6 9]]\n"
     ]
    }
   ],
   "source": [
    "\"\"\"\n",
    "Numpy.ufunc\n",
    "\"\"\"\n",
    "\n",
    "np.random.seed(1)\n",
    "arr1= np.random.randint(10,size=5)\n",
    "arr2= np.random.randint(10,size=5)\n",
    "print(arr1,arr2)\n",
    "\n",
    "arr1= arr1-2\n",
    "print(arr1,arr2)\n",
    "\n",
    "arr3= arr1+arr2\n",
    "print(arr3)\n",
    "\n",
    "arr4=np.random.randint(10,size=(3,5))\n",
    "print(arr4)"
   ]
  },
  {
   "cell_type": "code",
   "execution_count": 17,
   "id": "e074dfff-34aa-451b-bb84-c48bde7b5998",
   "metadata": {},
   "outputs": [
    {
     "name": "stdout",
     "output_type": "stream",
     "text": [
      "x =  [0 1 2 3]\n",
      "x + 5 =  [5 6 7 8]\n",
      "x - 5 =  [-5 -4 -3 -2]\n",
      "x * 2 =  [0 2 4 6]\n",
      "x / 2 =  [0.  0.5 1.  1.5]\n",
      "x ** 2 =  [0 1 4 9] \n",
      "\n",
      "x + 5 =  [5 6 7 8]\n",
      "x - 5 =  [-5 -4 -3 -2]\n",
      "x * 2 =  [0 2 4 6]\n",
      "x / 2 =  [0.  0.5 1.  1.5]\n",
      "x ** 2 =  [0 1 4 9]\n"
     ]
    }
   ],
   "source": [
    "\"\"\"\n",
    "UFuncs: Array Arithmetic\n",
    "\"\"\"\n",
    "\n",
    "x= np.arange(4)\n",
    "print(\"x = \",x)\n",
    "print(\"x + 5 = \",x+5)\n",
    "print(\"x - 5 = \",x-5)\n",
    "print(\"x * 2 = \", x*2)\n",
    "print(\"x / 2 = \", x/2)\n",
    "print(\"x ** 2 = \", x**2,'\\n')\n",
    "print(\"x + 5 = \",np.add(x,5))\n",
    "print(\"x - 5 = \",np.subtract(x,5))\n",
    "print(\"x * 2 = \", np.multiply(x,2))\n",
    "print(\"x / 2 = \", np.divide(x,2))\n",
    "print(\"x ** 2 = \", np.power(x,2))\n"
   ]
  },
  {
   "cell_type": "code",
   "execution_count": 21,
   "id": "c64ff5a6-9793-41b7-9e9f-07ae57cfbb61",
   "metadata": {},
   "outputs": [
    {
     "name": "stdout",
     "output_type": "stream",
     "text": [
      "[2 1 9 1 3]\n",
      "[5. 5. 2. 1.]\n"
     ]
    }
   ],
   "source": [
    "\"\"\"\n",
    "UFuncs : Absolute Value\n",
    "\"\"\"\n",
    "\n",
    "x= np.array([-2,-1,9,1,3])\n",
    "print(np.abs(x))\n",
    "\n",
    "x= np.array([3-4j, 4-3j, 2+0j, 0+1j])\n",
    "print(np.abs(x))"
   ]
  },
  {
   "cell_type": "code",
   "execution_count": 33,
   "id": "b3c5c571-3ed4-495e-bf9c-87fbbabd4616",
   "metadata": {},
   "outputs": [
    {
     "name": "stdout",
     "output_type": "stream",
     "text": [
      "[0.         1.57079633 3.14159265]\n",
      "[0.0000000e+00 1.0000000e+00 1.2246468e-16]\n",
      "[ 1.000000e+00  6.123234e-17 -1.000000e+00]\n",
      "[ 0.00000000e+00  1.63312394e+16 -1.22464680e-16]\n",
      "[  0.  20.  40.  60.  80. 100.]\n"
     ]
    }
   ],
   "source": [
    "\"\"\"\n",
    "UFuncs: Trigonometric Functions\n",
    "\"\"\"\n",
    "\n",
    "theta = np.linspace(0, np.pi, 3)\n",
    "\n",
    "print(theta)\n",
    "print(np.sin(theta))\n",
    "print(np.cos(theta))\n",
    "print(np.tan(theta))\n",
    "\n",
    "x= np.linspace(0, 100, 6)\n",
    "print(x)"
   ]
  },
  {
   "cell_type": "code",
   "execution_count": 37,
   "id": "b134717e-f6da-4a59-b224-bae5bc808e3e",
   "metadata": {},
   "outputs": [
    {
     "name": "stdout",
     "output_type": "stream",
     "text": [
      "[1 2 3 4]\n",
      "10\n",
      "24\n"
     ]
    }
   ],
   "source": [
    "\"\"\"\n",
    "UFuncs: Aggression\n",
    "\"\"\"\n",
    "\n",
    "x= np.arange(1, 5)\n",
    "print(x)\n",
    "aggr = np.add.reduce(x)\n",
    "print(aggr)\n",
    "\n",
    "aggr = np.multiply.reduce(x)\n",
    "print(aggr)"
   ]
  },
  {
   "cell_type": "code",
   "execution_count": 40,
   "id": "9772612e-bd99-4eee-af1f-47753731d840",
   "metadata": {},
   "outputs": [
    {
     "name": "stdout",
     "output_type": "stream",
     "text": [
      "[1 2 3 4]\n",
      "[ 1  3  6 10]\n",
      "[ 1  2  6 24]\n"
     ]
    }
   ],
   "source": [
    "# accumulate()\n",
    "print(x)\n",
    "\n",
    "accum= np.add.accumulate(x)\n",
    "print(accum)\n",
    "\n",
    "accum= np.multiply.accumulate(x)\n",
    "print(accum)"
   ]
  },
  {
   "cell_type": "code",
   "execution_count": 43,
   "id": "d7f3b220-0a21-4f1e-a646-20466762e060",
   "metadata": {},
   "outputs": [
    {
     "name": "stdout",
     "output_type": "stream",
     "text": [
      "[0.20846054 0.48168106 0.42053804 ... 0.06543463 0.80534246 0.27317008]\n"
     ]
    }
   ],
   "source": [
    "# Summing the Values in an Array\n",
    "\n",
    "np.random.seed(22)\n",
    "arr= np.random.rand(1000000)\n",
    "print(arr)"
   ]
  },
  {
   "cell_type": "code",
   "execution_count": 44,
   "id": "3b9ad421-0f17-4e6b-b63a-57b8e07a160e",
   "metadata": {},
   "outputs": [
    {
     "name": "stdout",
     "output_type": "stream",
     "text": [
      "99.5 ms ± 1.87 ms per loop (mean ± std. dev. of 7 runs, 10 loops each)\n"
     ]
    }
   ],
   "source": [
    "%timeit sum(arr)"
   ]
  },
  {
   "cell_type": "code",
   "execution_count": 45,
   "id": "248c9986-ca0e-4ff1-982c-e48be960a803",
   "metadata": {},
   "outputs": [
    {
     "name": "stdout",
     "output_type": "stream",
     "text": [
      "385 µs ± 20.5 µs per loop (mean ± std. dev. of 7 runs, 1000 loops each)\n"
     ]
    }
   ],
   "source": [
    "%timeit np.sum(arr)"
   ]
  },
  {
   "cell_type": "code",
   "execution_count": 51,
   "id": "9b2a5c9a-1e8d-41e6-b6da-500f7c55afec",
   "metadata": {},
   "outputs": [
    {
     "name": "stdout",
     "output_type": "stream",
     "text": [
      "max =  0.9999996464057614\n",
      "min =  1.7499423032862893e-06\n",
      "mean =  0.5000365341903944\n",
      "median =  0.5005147047331882\n",
      "percentile = 0.8999537108441031\n",
      "True\n",
      "False\n"
     ]
    }
   ],
   "source": [
    "# Other Aggr. functions\n",
    "\n",
    "print(\"max = \",np.max(arr))\n",
    "print(\"min = \",np.min(arr))\n",
    "print(\"mean = \",np.mean(arr))\n",
    "print(\"median = \", np.median(arr))\n",
    "print(\"percentile =\", np.percentile(arr,90))\n",
    "\n",
    "print(np.any(arr>0))\n",
    "print(np.all(arr<0))"
   ]
  },
  {
   "cell_type": "code",
   "execution_count": 53,
   "id": "8596c1b2-cf90-4d94-8428-37863108dc2f",
   "metadata": {},
   "outputs": [
    {
     "name": "stdout",
     "output_type": "stream",
     "text": [
      "[[3 6 6 0]\n",
      " [9 8 4 7]\n",
      " [0 0 7 1]]\n",
      "[12 14 17  8]\n"
     ]
    }
   ],
   "source": [
    "# Multi dimensional aggregates\n",
    "\n",
    "np.random.seed(5)\n",
    "arr =np.random.randint(10, size=(3,4))\n",
    "print(arr)\n",
    "\n",
    "print(np.sum(arr, axis=0))"
   ]
  },
  {
   "cell_type": "code",
   "execution_count": null,
   "id": "752df2ba-c4ed-489c-8003-34ebd8ff657e",
   "metadata": {},
   "outputs": [],
   "source": []
  }
 ],
 "metadata": {
  "kernelspec": {
   "display_name": "Python 3",
   "language": "python",
   "name": "python3"
  },
  "language_info": {
   "codemirror_mode": {
    "name": "ipython",
    "version": 3
   },
   "file_extension": ".py",
   "mimetype": "text/x-python",
   "name": "python",
   "nbconvert_exporter": "python",
   "pygments_lexer": "ipython3",
   "version": "3.8.8"
  }
 },
 "nbformat": 4,
 "nbformat_minor": 5
}
