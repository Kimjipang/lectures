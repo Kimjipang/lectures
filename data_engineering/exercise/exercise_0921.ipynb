{
 "cells": [
  {
   "cell_type": "code",
   "execution_count": 3,
   "id": "650abc42-ef6e-4bf2-a6ec-8eebacb5b0d6",
   "metadata": {},
   "outputs": [
    {
     "name": "stdout",
     "output_type": "stream",
     "text": [
      "[2, 3, 5, 7, 11]\n",
      "[]\n"
     ]
    }
   ],
   "source": [
    "\"\"\"\n",
    "Lists\n",
    "\"\"\"\n",
    "\n",
    "primes = [2,3,5,7,11]\n",
    "print(primes)\n",
    "\n",
    "empty_list = []\n",
    "print(empty_list)"
   ]
  },
  {
   "cell_type": "code",
   "execution_count": 5,
   "id": "32f45e4f-edaf-48cf-9638-62c354225430",
   "metadata": {},
   "outputs": [
    {
     "name": "stdout",
     "output_type": "stream",
     "text": [
      "['Jenny', 1, 1.4, True]\n"
     ]
    }
   ],
   "source": [
    "\"\"\"\n",
    "Multiple different data types\n",
    "\"\"\"\n",
    "\n",
    "mixed = ['Jenny', 1, 1.4, True]\n",
    "print(mixed)\n",
    "list_of_lists = [['a',1],['b',2]]"
   ]
  },
  {
   "cell_type": "code",
   "execution_count": 9,
   "id": "0df0102c-616f-451f-9355-222c2f7f5802",
   "metadata": {},
   "outputs": [
    {
     "name": "stdout",
     "output_type": "stream",
     "text": [
      "Roger Novak\n",
      "Rafael Andy\n",
      "Andy Rafael\n",
      "Novak Roger\n"
     ]
    }
   ],
   "source": [
    "\"\"\"\n",
    "Zero-indexing\n",
    "\"\"\"\n",
    "\n",
    "names = ['Roger', 'Rafael', 'Andy', 'Novak']\n",
    "\n",
    "print(names[0],names[-1])\n",
    "print(names[1],names[-2])\n",
    "print(names[2],names[-3])\n",
    "print(names[3],names[-4])"
   ]
  },
  {
   "cell_type": "code",
   "execution_count": 17,
   "id": "a3792607-3c0a-4666-9511-e1ffa7f5f898",
   "metadata": {},
   "outputs": [
    {
     "name": "stdout",
     "output_type": "stream",
     "text": [
      "['장공관', '필헌관', '소통관']\n",
      "['장공관', '우리집', '소통관']\n",
      "['만우관', '장공관', '필헌관', '소통관', '송암관', '늦봄관', '장준하통일관']\n",
      "['만우관', '장공관', '필헌관']\n"
     ]
    }
   ],
   "source": [
    "\"\"\"\n",
    "List slicing\n",
    "\"\"\"\n",
    "hsu_buildings = ['만우관', '장공관' ,'필헌관', '소통관', '송암관', '늦봄관', '장준하통일관']\n",
    "building_slice=hsu_buildings[1:4]\n",
    "print(building_slice)\n",
    "building_slice[1]='우리집'\n",
    "print(building_slice)\n",
    "print(hsu_buildings)\n",
    "print(hsu_buildings[:3])"
   ]
  },
  {
   "cell_type": "code",
   "execution_count": 27,
   "id": "0b8db1eb-d061-4238-b44e-91b1da7dd15a",
   "metadata": {},
   "outputs": [
    {
     "name": "stdout",
     "output_type": "stream",
     "text": [
      "찌동\n",
      "['짜장명가', '중식', '간짜장']\n"
     ]
    },
    {
     "data": {
      "text/plain": [
       "[['해우리', '한식', '고S'],\n",
       " ['짜장명가', '중식', '간짜장'],\n",
       " ['찌동', '한식', '제육전골'],\n",
       " ['맘터', '양식', '싸이버거'],\n",
       " ['내찜닭', '한식', '간장맛 찜닭 치즈추가']]"
      ]
     },
     "execution_count": 27,
     "metadata": {},
     "output_type": "execute_result"
    }
   ],
   "source": [
    "\"\"\"\n",
    "Multi-dimensional Lists\n",
    "\"\"\"\n",
    "\n",
    "restaurants = [['해우리', '한식' ,'고S'], ['짜장명가', '중식', '중화비빔밥'],\n",
    "              ['찌동', '한식', '제육전골'],['맘터', '양식', '싸이버거']]\n",
    "print(restaurants[2][0])\n",
    "restaurants[1][2]='간짜장'\n",
    "print(restaurants[1])\n",
    "restaurants+[['내찜닭','한식','간장맛 찜닭 치즈추가']]"
   ]
  },
  {
   "cell_type": "code",
   "execution_count": 24,
   "id": "69f4e6c8-0417-4f64-a8fe-5e67a3f8e92a",
   "metadata": {},
   "outputs": [
    {
     "name": "stdout",
     "output_type": "stream",
     "text": [
      "['cake', 'cookie', 'bread', 'biscuit', 'tart']\n"
     ]
    }
   ],
   "source": [
    "\"\"\"\n",
    "Adding Lists Together\n",
    "\"\"\"\n",
    "\n",
    "items_one = ['cake', 'cookie', 'bread']\n",
    "items_two = ['biscuit', 'tart']\n",
    "\n",
    "total_items = items_one + items_two\n",
    "print(total_items)"
   ]
  },
  {
   "cell_type": "code",
   "execution_count": 38,
   "id": "633c3712-65ec-46f0-9719-2425743d22da",
   "metadata": {},
   "outputs": [
    {
     "name": "stdout",
     "output_type": "stream",
     "text": [
      "5\n",
      "['daisies', 'periwinkle', 'tulips']\n",
      "['Karla', 'Maxium', 'Vikor', 'Martin', 'Isabella']\n",
      "[1, 2, 3, 4]\n",
      "None\n",
      "[1, 2, 3, 4]\n",
      "['늦봄관', '만우관', '소통관', '송암관', '장공관', '장준하통일관', '필헌관']\n"
     ]
    }
   ],
   "source": [
    "\"\"\"\n",
    "Useful Methods for Lists\n",
    "\"\"\"\n",
    "\n",
    "knapsack = [2, 4, 3, 87, 10]\n",
    "size = len(knapsack)\n",
    "print(size)\n",
    "\n",
    "#append()\n",
    "orders = ['daisies', 'periwinkle']\n",
    "orders.append('tulips')\n",
    "\n",
    "print(orders)\n",
    "\n",
    "# insert()\n",
    "store_line = ['Karla', 'Maxium', 'Martin', 'Isabella']\n",
    "store_line.insert(2, 'Vikor')\n",
    "print(store_line)\n",
    "\n",
    "# sort()\n",
    "\n",
    "numbers= [4,2,1,3]\n",
    "a=numbers.sort()\n",
    "b=sorted(numbers)\n",
    "print(numbers)\n",
    "print(a)\n",
    "print(b)\n",
    "hsu_buildings = ['만우관', '장공관' ,'필헌관', '소통관', '송암관', '늦봄관', '장준하통일관']\n",
    "hsu_buildings.sort()\n",
    "print(hsu_buildings)\n",
    "\n"
   ]
  },
  {
   "cell_type": "code",
   "execution_count": null,
   "id": "3f8b33e3-c4ed-42e2-999b-aa6f46bc19df",
   "metadata": {},
   "outputs": [],
   "source": []
  }
 ],
 "metadata": {
  "kernelspec": {
   "display_name": "Python 3",
   "language": "python",
   "name": "python3"
  },
  "language_info": {
   "codemirror_mode": {
    "name": "ipython",
    "version": 3
   },
   "file_extension": ".py",
   "mimetype": "text/x-python",
   "name": "python",
   "nbconvert_exporter": "python",
   "pygments_lexer": "ipython3",
   "version": "3.8.8"
  }
 },
 "nbformat": 4,
 "nbformat_minor": 5
}
