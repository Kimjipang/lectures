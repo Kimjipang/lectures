{
 "cells": [
  {
   "cell_type": "code",
   "execution_count": 4,
   "id": "0432889f-1eca-40e4-9fec-bc114b876c83",
   "metadata": {},
   "outputs": [
    {
     "name": "stdout",
     "output_type": "stream",
     "text": [
      "<class 'bool'>\n",
      "<class 'int'>\n",
      "<class 'str'>\n"
     ]
    }
   ],
   "source": [
    "\"\"\"\n",
    "boolean variables\n",
    "\"\"\"\n",
    "\n",
    "is_tested = False\n",
    "print(type(is_tested))\n",
    "\n",
    "a=3\n",
    "print(type(a))\n",
    "\n",
    "b=\"string\"\n",
    "print(type(b))"
   ]
  },
  {
   "cell_type": "code",
   "execution_count": 9,
   "id": "de9fe347-c259-44f2-9ac7-f6311640ce02",
   "metadata": {},
   "outputs": [
    {
     "name": "stdout",
     "output_type": "stream",
     "text": [
      "말티푸\n",
      "True\n"
     ]
    }
   ],
   "source": [
    "\"\"\"\n",
    "Conditional statements (if / elif / else)\n",
    "\"\"\"\n",
    "\n",
    "puppy = \"maltepoo\"\n",
    "is_yes = False\n",
    "\n",
    "if(puppy==\"maltese\"):\n",
    "    print(\"말티즈\")\n",
    "    is_yes=True\n",
    "    \n",
    "elif puppy == \"poodle\":\n",
    "    print(\"푸들\")\n",
    "    is_yes = True\n",
    "    \n",
    "elif puppy == \"shitzu\":\n",
    "    print(\"시츄\")\n",
    "    is_yes = True\n",
    "    \n",
    "else:\n",
    "    print(\"말티푸\")\n",
    "    is_yes = True\n",
    "print(is_yes)"
   ]
  },
  {
   "cell_type": "code",
   "execution_count": 12,
   "id": "ffa0d3a6-27b9-439a-afa4-e38fbb5f0c06",
   "metadata": {},
   "outputs": [
    {
     "name": "stdout",
     "output_type": "stream",
     "text": [
      "에러 발생\n"
     ]
    }
   ],
   "source": [
    "\"\"\"\n",
    "Exception Handling\n",
    "\"\"\"\n",
    "\n",
    "x=1\n",
    "try:    \n",
    "    print(y)\n",
    "except: \n",
    "    print(\"에러 발생\")"
   ]
  },
  {
   "cell_type": "code",
   "execution_count": null,
   "id": "6d19b32e-7576-4582-bd78-4f059e22ffb7",
   "metadata": {},
   "outputs": [],
   "source": []
  }
 ],
 "metadata": {
  "kernelspec": {
   "display_name": "Python 3",
   "language": "python",
   "name": "python3"
  },
  "language_info": {
   "codemirror_mode": {
    "name": "ipython",
    "version": 3
   },
   "file_extension": ".py",
   "mimetype": "text/x-python",
   "name": "python",
   "nbconvert_exporter": "python",
   "pygments_lexer": "ipython3",
   "version": "3.8.8"
  }
 },
 "nbformat": 4,
 "nbformat_minor": 5
}
