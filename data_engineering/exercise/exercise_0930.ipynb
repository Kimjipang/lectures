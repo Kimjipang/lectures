{
 "cells": [
  {
   "cell_type": "code",
   "execution_count": 3,
   "id": "cb518b13-3da7-4337-959a-5c20e4335a42",
   "metadata": {},
   "outputs": [],
   "source": [
    "import numpy as np\n",
    "import pandas as pd\n",
    "from matplotlib import pyplot as plt"
   ]
  },
  {
   "cell_type": "code",
   "execution_count": 12,
   "id": "28e00357-fcf3-493c-a897-2568f75dd1f9",
   "metadata": {},
   "outputs": [
    {
     "name": "stdout",
     "output_type": "stream",
     "text": [
      "[1 2 3 4]\n"
     ]
    }
   ],
   "source": [
    "lst=[1,2,3,4]\n",
    "\n",
    "arr=np.array(lst)\n",
    "print(arr)"
   ]
  },
  {
   "cell_type": "code",
   "execution_count": 13,
   "id": "df7e217b-6549-4787-a2fe-04441fc0648b",
   "metadata": {},
   "outputs": [
    {
     "name": "stdout",
     "output_type": "stream",
     "text": [
      "int32\n"
     ]
    }
   ],
   "source": [
    "# .dtype attribute\n",
    "\n",
    "print(arr.dtype)"
   ]
  },
  {
   "cell_type": "code",
   "execution_count": 18,
   "id": "1491ed7b-32aa-48c7-b637-4279aecf96a3",
   "metadata": {},
   "outputs": [
    {
     "name": "stdout",
     "output_type": "stream",
     "text": [
      "96\n",
      "124\n"
     ]
    }
   ],
   "source": [
    "\"\"\"\n",
    "Size Comparison of ndrray and list objects\n",
    "\"\"\"\n",
    "from sys import getsizeof\n",
    "\n",
    "lst = [1,2,3,4,5]\n",
    "print(getsizeof(lst))\n",
    "\n",
    "arr = np.array(lst)\n",
    "print(getsizeof(arr))"
   ]
  },
  {
   "cell_type": "code",
   "execution_count": 19,
   "id": "d987a811-41fd-4215-b70e-4285daa5d42c",
   "metadata": {},
   "outputs": [
    {
     "name": "stdout",
     "output_type": "stream",
     "text": [
      "[25, 10, 19, 11, 60, 29, 1, 319]\n",
      "[ 25  10  19  11  60  29   1 319]\n"
     ]
    }
   ],
   "source": [
    "\"\"\"\n",
    "Operations with Numpy Arrays\n",
    "\"\"\"\n",
    "prices = [30,15,24,16,65,34,6,324]\n",
    "\n",
    "new_prices = [price-5 for price in prices]\n",
    "print(new_prices)\n",
    "\n",
    "# With a ndarray\n",
    "\n",
    "prices_arr= np.array(prices)\n",
    "prices_arr = prices_arr - 5\n",
    "print(prices_arr)"
   ]
  },
  {
   "cell_type": "code",
   "execution_count": 31,
   "id": "aad91b53-6ec9-4895-a429-033574e4462c",
   "metadata": {},
   "outputs": [
    {
     "name": "stdout",
     "output_type": "stream",
     "text": [
      "[89 87 74 92 94]\n",
      "[258 279 246 274 270]\n",
      "[86.         93.         82.         91.33333333 90.        ]\n",
      "93\n",
      "[94 88]\n"
     ]
    }
   ],
   "source": [
    "\"\"\"\n",
    "Exercise: Test Scores\n",
    "\"\"\"\n",
    "\n",
    "test_1 = np.array([92, 94, 88, 91, 87])\n",
    "test_2 = np.array([79, 100, 86, 93, 91])\n",
    "test_3 = np.array([87, 85, 72, 90, 92])\n",
    "\n",
    "test_3_fixed = test_3 + 2\n",
    "print(test_3_fixed)\n",
    "\n",
    "total_grades = test_1 + test_2 + test_3\n",
    "print(total_grades)\n",
    "\n",
    "final_grade = total_grades / 3\n",
    "print(final_grade)\n",
    "\n",
    "jeremy_test_2 = test_2[3]\n",
    "print(jeremy_test_2)\n",
    "\n",
    "manual_adwoa_test_1 = np.array([test_1[1], test_1[2]])\n",
    "print(manual_adwoa_test_1)"
   ]
  },
  {
   "cell_type": "code",
   "execution_count": 32,
   "id": "bf1ee265-7257-496f-8bb7-b4173638eb99",
   "metadata": {},
   "outputs": [
    {
     "name": "stdout",
     "output_type": "stream",
     "text": [
      "[[ 92  94  88  91  87]\n",
      " [ 79 100  86  93  91]\n",
      " [ 87  85  72  90  92]]\n",
      "87\n",
      "[87 91 92]\n"
     ]
    }
   ],
   "source": [
    "student_scores = np.array([test_1, test_2, test_3])\n",
    "print(student_scores)\n",
    "\n",
    "print(student_scores[2, 0])\n",
    "\n",
    "print(student_scores[: ,4])"
   ]
  },
  {
   "cell_type": "code",
   "execution_count": 34,
   "id": "8d2e9324-ff10-4230-a237-04ff1544b20d",
   "metadata": {},
   "outputs": [
    {
     "name": "stdout",
     "output_type": "stream",
     "text": [
      "[False False False False False  True  True  True  True  True]\n",
      "[ 6 67  7  8  9]\n",
      "[ 1  3 67  7  8  9]\n",
      "[5 5 6]\n"
     ]
    }
   ],
   "source": [
    "\"\"\"\n",
    "Logical Operations with Arrays\n",
    "\"\"\"\n",
    "# masking\n",
    "a = np.array([1,3,4,5,5,6,67,7,8,9])\n",
    "mask = a > 5\n",
    "print(mask)\n",
    "\n",
    "# select using logical operations\n",
    "selected = a[a>5]\n",
    "print(selected)\n",
    "\n",
    "# combined Logical operations | &\n",
    "selected = a[(a>6) | (a<4)]\n",
    "print(selected)\n",
    "\n",
    "selected = a[(a > 4) & (a<7)]\n",
    "print(selected)"
   ]
  },
  {
   "cell_type": "code",
   "execution_count": null,
   "id": "37203231-c480-403a-81f6-4e8118aed92b",
   "metadata": {},
   "outputs": [],
   "source": [
    "\"\"\"\n",
    "Exercise : Goldillocks Porridge Festival\n",
    "\"\"\"\n",
    "\n",
    "porridge = np.array([79, 65, ])"
   ]
  }
 ],
 "metadata": {
  "kernelspec": {
   "display_name": "Python 3",
   "language": "python",
   "name": "python3"
  },
  "language_info": {
   "codemirror_mode": {
    "name": "ipython",
    "version": 3
   },
   "file_extension": ".py",
   "mimetype": "text/x-python",
   "name": "python",
   "nbconvert_exporter": "python",
   "pygments_lexer": "ipython3",
   "version": "3.8.8"
  }
 },
 "nbformat": 4,
 "nbformat_minor": 5
}
