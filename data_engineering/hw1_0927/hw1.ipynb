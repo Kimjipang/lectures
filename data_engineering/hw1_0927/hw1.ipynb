{
 "cells": [
  {
   "cell_type": "code",
   "execution_count": null,
   "id": "e655c071-2a0b-4c1c-bd2a-8b19e1d88b70",
   "metadata": {},
   "outputs": [],
   "source": [
    "lovely_loveseat_description =\"Lovely Loveseat. Tufted polyester blend on wood. 32 inches x 40 inches wide x 30 inches deep. Red or White.\"\n",
    "lovely_loveseat_price=254.00\n",
    "\n",
    "stylish_settee_description=\"Stylish Settee. Faux leather on birch. 29.50 inches high x 54.75 inches wide x 28 inches deep. Black.\"\n",
    "stylish_settee_price=180.50\n",
    "\n",
    "luxurious_lamp_description=\"Luxurious Lamp. Glass and Iron. 36 inches tall. Brown with cream shade\"\n",
    "luxurious_lamp_price=52.15\n",
    "\n",
    "sales_tax=.088\n",
    "customer_one_total = 0\n",
    "customer_one_itemization = \"\"\n",
    "customer_one_total+=lovely_loveseat_price\n",
    "customer_one_itemization += lovely_loveseat_description\n",
    "\n",
    "customer_one_total+=luxurious_lamp_price\n",
    "customer_one_itemization+=luxurious_lamp_description\n",
    "\n",
    "customer_one_tax=customer_one_total*sales_tax\n",
    "customer_one_total+=customer_one_tax\n",
    "\n",
    "print(\"Customer One Items: \")\n",
    "print(cus)\n"
   ]
  }
 ],
 "metadata": {
  "kernelspec": {
   "display_name": "Python 3",
   "language": "python",
   "name": "python3"
  },
  "language_info": {
   "codemirror_mode": {
    "name": "ipython",
    "version": 3
   },
   "file_extension": ".py",
   "mimetype": "text/x-python",
   "name": "python",
   "nbconvert_exporter": "python",
   "pygments_lexer": "ipython3",
   "version": "3.8.8"
  }
 },
 "nbformat": 4,
 "nbformat_minor": 5
}
