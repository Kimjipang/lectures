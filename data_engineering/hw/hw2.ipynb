{
 "cells": [
  {
   "cell_type": "code",
   "execution_count": 5,
   "id": "9b575f34-fe1a-4651-95f4-82df3a535f07",
   "metadata": {},
   "outputs": [
    {
     "name": "stdout",
     "output_type": "stream",
     "text": [
      "[['Physics', 98], ['Calculus', 97], ['Poetry', 85], ['History', 88]]\n"
     ]
    }
   ],
   "source": [
    "subject=[\"Physics\",\"Calculus\",\"Poetry\",\"History\"]\n",
    "grade=[98,97,85,88]\n",
    "gradebook=[[\"Physics\",98],[\"Calculus\",97],[\"Poetry\",85],[\"History\",88]]\n",
    "print(gradebook)"
   ]
  },
  {
   "cell_type": "code",
   "execution_count": 11,
   "id": "537fdc1e-d12b-4ef0-8385-9117f94d8d9d",
   "metadata": {},
   "outputs": [
    {
     "name": "stdout",
     "output_type": "stream",
     "text": [
      "[['Physics', 98], ['Calculus', 97], ['Poetry', 85], ['History', 88], ['Computer Science', 100], ['Visual Arts', 93]]\n"
     ]
    }
   ],
   "source": [
    "gradebook.append([\"Computer Science\",100])\n",
    "gradebook.append([\"Visual Arts\",93])\n",
    "print(gradebook)"
   ]
  },
  {
   "cell_type": "code",
   "execution_count": 19,
   "id": "97b3747c-6c64-446d-b92c-704f9a2cda9f",
   "metadata": {},
   "outputs": [],
   "source": [
    "gradebook[5][1]+=5"
   ]
  },
  {
   "cell_type": "code",
   "execution_count": 21,
   "id": "a3c7a9b8-5c48-4994-a666-1db0912961f6",
   "metadata": {},
   "outputs": [
    {
     "data": {
      "text/plain": [
       "[['Physics', 98],\n",
       " ['Calculus', 97],\n",
       " ['Poetry', 85],\n",
       " ['History', 88],\n",
       " ['Computer Science', 100],\n",
       " ['Visual Arts', 98]]"
      ]
     },
     "execution_count": 21,
     "metadata": {},
     "output_type": "execute_result"
    }
   ],
   "source": [
    "gradebook"
   ]
  },
  {
   "cell_type": "code",
   "execution_count": 24,
   "id": "1c5a0761-8db4-4890-b8f1-57247e41aaed",
   "metadata": {},
   "outputs": [],
   "source": [
    "gradebook[2].remove(85)"
   ]
  },
  {
   "cell_type": "code",
   "execution_count": 25,
   "id": "7bd9d7a0-a816-4861-98bc-1a148c24fa2f",
   "metadata": {},
   "outputs": [],
   "source": [
    "gradebook[2].append(\"Pass\")"
   ]
  },
  {
   "cell_type": "code",
   "execution_count": 26,
   "id": "2b32627d-5242-428b-92e0-f5cdeff25563",
   "metadata": {},
   "outputs": [
    {
     "data": {
      "text/plain": [
       "[['Physics', 98],\n",
       " ['Calculus', 97],\n",
       " ['Poetry', 'Pass'],\n",
       " ['History', 88],\n",
       " ['Computer Science', 100],\n",
       " ['Visual Arts', 98]]"
      ]
     },
     "execution_count": 26,
     "metadata": {},
     "output_type": "execute_result"
    }
   ],
   "source": [
    "gradebook"
   ]
  },
  {
   "cell_type": "code",
   "execution_count": null,
   "id": "39683cee-cb64-448f-8ed4-2ce28cae316e",
   "metadata": {},
   "outputs": [],
   "source": [
    "last_semester_gradebook = [[\"politics\", 80], [\"latin\", 96], [\"dance\", 97], [\"architecture\", 65]]\n",
    "full_gradebook = fu"
   ]
  }
 ],
 "metadata": {
  "kernelspec": {
   "display_name": "Python 3",
   "language": "python",
   "name": "python3"
  },
  "language_info": {
   "codemirror_mode": {
    "name": "ipython",
    "version": 3
   },
   "file_extension": ".py",
   "mimetype": "text/x-python",
   "name": "python",
   "nbconvert_exporter": "python",
   "pygments_lexer": "ipython3",
   "version": "3.8.8"
  }
 },
 "nbformat": 4,
 "nbformat_minor": 5
}
