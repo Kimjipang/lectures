{
 "cells": [
  {
   "cell_type": "code",
   "execution_count": 2,
   "id": "c6595bbb-6e8e-4a02-a01f-b50cb0ca037a",
   "metadata": {},
   "outputs": [
    {
     "name": "stdout",
     "output_type": "stream",
     "text": [
      "Average price is  31.875\n"
     ]
    }
   ],
   "source": [
    "hairstyle = [\"bouffand\", \"pixie\", \"dreadlocks\", \"crew\", \"bowl\", \"bob\", \"mohawk\", \"flattop\"]\n",
    "prices = [30, 25, 40, 20, 20, 35, 50, 35]\n",
    "last_week = [2, 3, 5, 8, 4, 4, 6, 2]\n",
    "total_price = 0\n",
    "for i in prices :\n",
    "    total_price += i\n",
    "    \n",
    "average_price = total_price / len(prices)\n",
    "print(\"Average price is \", average_price) "
   ]
  },
  {
   "cell_type": "code",
   "execution_count": 3,
   "id": "da5d78eb-6773-4c72-b5ff-9479cfe0b5a8",
   "metadata": {},
   "outputs": [
    {
     "name": "stdout",
     "output_type": "stream",
     "text": [
      "[25, 20, 35, 15, 15, 30, 45, 30]\n"
     ]
    }
   ],
   "source": [
    "new_prices = [i-5 for i in prices]\n",
    "print(new_prices)"
   ]
  },
  {
   "cell_type": "code",
   "execution_count": 4,
   "id": "853f68e6-dcae-4626-8df7-19216c8b0cec",
   "metadata": {},
   "outputs": [
    {
     "name": "stdout",
     "output_type": "stream",
     "text": [
      "1085\n"
     ]
    }
   ],
   "source": [
    "total_revenue = 0\n",
    "for i in range(len(hairstyle)):\n",
    "    total_revenue+=prices[i]*last_week[i]\n",
    "    \n",
    "print(total_revenue)"
   ]
  },
  {
   "cell_type": "code",
   "execution_count": 11,
   "id": "6bcd3a83-9965-44a2-b843-7dc9f63d8cb1",
   "metadata": {},
   "outputs": [
    {
     "name": "stdout",
     "output_type": "stream",
     "text": [
      "Average daily revenue is  155.0\n"
     ]
    }
   ],
   "source": [
    "average_daily_revenue = total_revenue / 7\n",
    "print(\"Average daily revenue is \",average_daily_revenue)"
   ]
  },
  {
   "cell_type": "code",
   "execution_count": 35,
   "id": "839afae7-610b-485d-9c14-22e19e56e536",
   "metadata": {},
   "outputs": [
    {
     "name": "stdout",
     "output_type": "stream",
     "text": [
      "{0: 'bouffand', 1: 'pixie', 3: 'crew', 4: 'bowl'}\n"
     ]
    }
   ],
   "source": [
    "cts_under_30 = {}\n",
    "for i in range(len(new_prices)-1):\n",
    "    if new_prices[i] < 30:\n",
    "        cts_under_30[i]=hairstyle[i]\n",
    "    \n",
    "print(cts_under_30)"
   ]
  },
  {
   "cell_type": "code",
   "execution_count": null,
   "id": "3f737e14-b806-4553-8b3d-c9792301f587",
   "metadata": {},
   "outputs": [],
   "source": []
  }
 ],
 "metadata": {
  "kernelspec": {
   "display_name": "Python 3",
   "language": "python",
   "name": "python3"
  },
  "language_info": {
   "codemirror_mode": {
    "name": "ipython",
    "version": 3
   },
   "file_extension": ".py",
   "mimetype": "text/x-python",
   "name": "python",
   "nbconvert_exporter": "python",
   "pygments_lexer": "ipython3",
   "version": "3.8.8"
  }
 },
 "nbformat": 4,
 "nbformat_minor": 5
}
